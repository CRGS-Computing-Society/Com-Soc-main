{
  "nbformat": 4,
  "nbformat_minor": 0,
  "metadata": {
    "colab": {
      "name": "com soc hackathon.ipynb",
      "provenance": [],
      "collapsed_sections": []
    },
    "kernelspec": {
      "name": "python3",
      "display_name": "Python 3"
    }
  },
  "cells": [
    {
      "cell_type": "markdown",
      "metadata": {
        "id": "rBBJnQloMLqz"
      },
      "source": [
        "### PLEASE DO NOT WRITE YOUR CODE DIRECTLY IN THIS NOTEBOOK. MAKE A COPY BY GOING TO FILE > SAVE A COPY IN DRIVE\n",
        "Recently home from his shopping trip, Pratykash is now hungry. He has a large library of recipies, but doesn't know what to cook. He needs you help to pick what to make.\n",
        "\n",
        "The task is to create a search engine that helps Pratyaksh decide what he wants to make. How the search engine works is up to you, but it should return a list of dishes ranked in order from most relevant to least relevant. You can determine relevance from whichever factors you want (e.g. keywords, ingredients, or similar dishes that Pratykash has already had).\n",
        "\n",
        "Becuase we only have one hour, you won't be judged on the interface, so a plain python interface is fine (i.e. you can get the information about what Pratyaksh is searching for through normal python inputs).\n",
        "\n",
        "You will be scored on 4 main criteria:\n",
        "1. How intuitive is the search tool to use?\n",
        "2. How accurate are the results it returns (e.g. if it has an option for food country of origin, is the food returned from that country)?\n",
        "3. How \"intelligent\" is the search algorithm (an intelligent algorithm may take into account many factors such as food popularity and similarity to dishes Pratyaksh has already had, rather than just one or two)\n",
        "4. How original the idea is\n",
        "\n",
        "We will present our solutions next week, and the winner will be decided by vote\n",
        "\n",
        "The recipies are supplied in this notebook (there is a `dishes` list where each element contains a dictionary which describes a single dish), along with a basic, example search engine:"
      ]
    },
    {
      "cell_type": "code",
      "metadata": {
        "id": "WdCNJeZmMK16",
        "colab": {
          "base_uri": "https://localhost:8080/"
        },
        "outputId": "204b7c7b-c138-4d6c-d833-391bca756b9f"
      },
      "source": [
        "!wget https://raw.githubusercontent.com/Joseph-Rance/Computing-Soc/master/Challenges/com%20soc%20ingredients.txt"
      ],
      "execution_count": null,
      "outputs": [
        {
          "output_type": "stream",
          "text": [
            "--2020-11-18 17:52:14--  https://raw.githubusercontent.com/Joseph-Rance/Computing-Soc/master/Challenges/com%20soc%20ingredients.txt\n",
            "Resolving raw.githubusercontent.com (raw.githubusercontent.com)... 151.101.0.133, 151.101.64.133, 151.101.128.133, ...\n",
            "Connecting to raw.githubusercontent.com (raw.githubusercontent.com)|151.101.0.133|:443... connected.\n",
            "HTTP request sent, awaiting response... 200 OK\n",
            "Length: 5627 (5.5K) [text/plain]\n",
            "Saving to: ‘com soc ingredients.txt’\n",
            "\n",
            "com soc ingredients 100%[===================>]   5.50K  --.-KB/s    in 0s      \n",
            "\n",
            "2020-11-18 17:52:14 (69.5 MB/s) - ‘com soc ingredients.txt’ saved [5627/5627]\n",
            "\n"
          ],
          "name": "stdout"
        }
      ]
    },
    {
      "cell_type": "code",
      "metadata": {
        "id": "YrJJq0A2fw_p"
      },
      "source": [
        "with open(\"com soc ingredients.txt\", \"r\") as f:\n",
        "  raw = f.read()"
      ],
      "execution_count": null,
      "outputs": []
    },
    {
      "cell_type": "code",
      "metadata": {
        "id": "EOPzAGP_f9dv",
        "colab": {
          "base_uri": "https://localhost:8080/"
        },
        "outputId": "f4df742e-efda-4f35-cfef-b81451d51e20"
      },
      "source": [
        "dishes = []\n",
        "\n",
        "for i in raw.split(\"\\n\")[1:-1]:\n",
        "  name, popularity, pop_change, similar, cost, like, country, ingredients, link, course, description, cals, time = i.split(\", \")\n",
        "  similar, ingredients = similar.split(\" | \"), ingredients.split(\" | \")\n",
        "  cost, cals, time = float(cost), int(cals), float(time)\n",
        "  like = 1 if like == \"Y\" else (-1 if like == \"N\" else 0)\n",
        "  dishes.append({\"Name\": name, \"Polularity\": popularity, \"Popularity change\": pop_change, \"Similar dishes\": similar, \"cost\": cost, \"Liked by Pratyaksh\": like, \"Country\": country, \"Ingredients\": ingredients, \"Desc\": description, \"Calories\": cals, \"Prep time\": time})\n",
        "\n",
        "print(f\"No. Dishes: {len(dishes)}, example dish: {dishes[0]}\")"
      ],
      "execution_count": null,
      "outputs": [
        {
          "output_type": "stream",
          "text": [
            "No. Dishes: 18, example dish: {'Name': 'pepperoni pizza', 'Polularity': '99', 'Popularity change': '0', 'Similar dishes': ['Margherita Pizza'], 'cost': 3.5, 'Liked by Pratyaksh': 1, 'Country': 'Italy', 'Ingredients': ['tomatoes', 'pepperoni', 'cheese'], 'Desc': 'Even a novice cook can master the art of pizza with our simple step-by-step guide. Bellissimo!', 'Calories': 431000, 'Prep time': 0.4}\n"
          ],
          "name": "stdout"
        }
      ]
    },
    {
      "cell_type": "markdown",
      "metadata": {
        "id": "bxHXQkmomA9t"
      },
      "source": [
        "simple example v.....................^ you get this information about each dish in the `dishes` list"
      ]
    },
    {
      "cell_type": "code",
      "metadata": {
        "id": "Eu8v_pUxm2JN",
        "colab": {
          "base_uri": "https://localhost:8080/"
        },
        "outputId": "b2341f56-2ee4-4b65-a42c-e34d47a91579"
      },
      "source": [
        "keyword = input(\"what would you like to eat? \")\n",
        "print()\n",
        "\n",
        "outputs = []\n",
        "for dish in dishes:\n",
        "  if keyword in (dish[\"Name\"] + dish[\"Desc\"] + \" \".join(dish[\"Ingredients\"])).lower():\n",
        "    outputs.append(dish)\n",
        "\n",
        "outputs = sorted(outputs, key=lambda x : x[\"cost\"])[::-1]\n",
        "\n",
        "for output in outputs:\n",
        "  print(f\"\\x1b[31m{output['Name']}\\x1b[0m\\n{output['Desc']}\\ncost: £{output['cost']}     ingredients: {', '.join(output['Ingredients'])}\", end=\"\\n\\n\")"
      ],
      "execution_count": null,
      "outputs": [
        {
          "output_type": "stream",
          "text": [
            "what would you like to eat? tomato\n",
            "\n",
            "\u001b[31mlasagna\u001b[0m\n",
            "Cook this lasagne for the family on a busy weeknight. It only takes 15 minutes to prepare and uses just five ingredients including shop-bought ravioli\n",
            "cost: £4.25     ingredients: beef, tomatoes, pasta, cheese\n",
            "\n",
            "\u001b[31msweet and sour chicken\u001b[0m\n",
            "Try an authentic version of this classic Chinese takeaway dish with natural sweetness and a warm chilli flavour to spice things up\n",
            "cost: £4.0     ingredients: chicken, tomatoes\n",
            "\n",
            "\u001b[31mbombay potatoes\u001b[0m\n",
            "Enjoy Bombay potatoes as a brilliant side dish to an epic feast. These Indian-style potatoes made with nuggets of juicy tomato are super-easy to make spicy and moreish\n",
            "cost: £4.0     ingredients: potatoes, tomatoes, onion\n",
            "\n",
            "\u001b[31mpasta\u001b[0m\n",
            "Whip up our easy vegetarian caponata pasta in just 20 minutes. It's simple to make and packs three of your five-a-day into one delicious meal\n",
            "cost: £4.0     ingredients: tomatoes, pasta, spinach\n",
            "\n",
            "\u001b[31mspaghetti\u001b[0m\n",
            "Our best ever spaghetti bolognese is super easy and a true Italian classic with a meaty chilli sauce. This recipe comes courtesy of BBC Good Food user Andrew Balmer\n",
            "cost: £3.5     ingredients: pasta, tomatoes, cheese\n",
            "\n",
            "\u001b[31mpepperoni pizza\u001b[0m\n",
            "Even a novice cook can master the art of pizza with our simple step-by-step guide. Bellissimo!\n",
            "cost: £3.5     ingredients: tomatoes, pepperoni, cheese\n",
            "\n",
            "\u001b[31mmargherita pizza\u001b[0m\n",
            "A great recipe for Homemade Pepperoni Pizza that can be adapted to accomodate any topping you like.\n",
            "cost: £2.0     ingredients: tomatoes, cheese\n",
            "\n"
          ],
          "name": "stdout"
        }
      ]
    },
    {
      "cell_type": "markdown",
      "metadata": {
        "id": "yKc9Cn4pmC-b"
      },
      "source": [
        "Some ideas if you can't think of anything:\n",
        " - Word similarity checker: If i write \"tomato\", also return \"tomatoes\" - can you find a way to split the stem off the word to work this out automatically?\n",
        " - trending dishes using the popularity change metric\n",
        " - create a value function for each dish given the inputs from the user and the dish info. Then show dishes in order of value\n",
        " - bargin finder: put in combinations of cheap ingredients and find some dishes that use those ingredients\n",
        " - Dishes that pratyaksh hasn't had (\"Liked by Pratyaksh\" = 0), but did like similar dishes\n",
        " - show one healthy option, one cheap option, one easy to prepare option etc. for each result\n",
        " - Display a score for different metrics (e.g. cost, healthiness, popularity) in results"
      ]
    },
    {
      "cell_type": "markdown",
      "metadata": {
        "id": "ykvOfaH9p85u"
      },
      "source": [
        "There are no criteria for how your output looks, but if you have time at the end, why not add some markdown in?"
      ]
    },
    {
      "cell_type": "code",
      "metadata": {
        "id": "0NptRx46peYI"
      },
      "source": [
        "from IPython.display import Markdown\n",
        "display(Markdown('**hi**'))"
      ],
      "execution_count": null,
      "outputs": []
    },
    {
      "cell_type": "code",
      "metadata": {
        "id": "kSzkRNGqp4kB"
      },
      "source": [
        ""
      ],
      "execution_count": null,
      "outputs": []
    }
  ]
}