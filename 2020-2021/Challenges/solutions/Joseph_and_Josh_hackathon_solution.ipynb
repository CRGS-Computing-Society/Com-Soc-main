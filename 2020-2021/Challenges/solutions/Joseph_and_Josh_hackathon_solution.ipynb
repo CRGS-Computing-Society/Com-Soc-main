{
  "nbformat": 4,
  "nbformat_minor": 0,
  "metadata": {
    "colab": {
      "name": "Joseph and Josh hackathon solution.ipynb",
      "provenance": [],
      "collapsed_sections": []
    },
    "kernelspec": {
      "name": "python3",
      "display_name": "Python 3"
    }
  },
  "cells": [
    {
      "cell_type": "code",
      "metadata": {
        "id": "WdCNJeZmMK16",
        "colab": {
          "base_uri": "https://localhost:8080/"
        },
        "outputId": "4be1784a-8ffc-46b5-eaac-3bbf95a24a42"
      },
      "source": [
        "!wget https://raw.githubusercontent.com/Joseph-Rance/Computing-Soc/master/Challenges/com%20soc%20ingredients.txt"
      ],
      "execution_count": 250,
      "outputs": [
        {
          "output_type": "stream",
          "text": [
            "--2020-11-19 18:18:47--  https://raw.githubusercontent.com/Joseph-Rance/Computing-Soc/master/Challenges/com%20soc%20ingredients.txt\n",
            "Resolving raw.githubusercontent.com (raw.githubusercontent.com)... 151.101.0.133, 151.101.64.133, 151.101.128.133, ...\n",
            "Connecting to raw.githubusercontent.com (raw.githubusercontent.com)|151.101.0.133|:443... connected.\n",
            "HTTP request sent, awaiting response... 200 OK\n",
            "Length: 5627 (5.5K) [text/plain]\n",
            "Saving to: ‘com soc ingredients.txt.20’\n",
            "\n",
            "\r          com soc i   0%[                    ]       0  --.-KB/s               \rcom soc ingredients 100%[===================>]   5.50K  --.-KB/s    in 0s      \n",
            "\n",
            "2020-11-19 18:18:48 (62.7 MB/s) - ‘com soc ingredients.txt.20’ saved [5627/5627]\n",
            "\n"
          ],
          "name": "stdout"
        }
      ]
    },
    {
      "cell_type": "code",
      "metadata": {
        "id": "YrJJq0A2fw_p"
      },
      "source": [
        "with open(\"com soc ingredients.txt\", \"r\") as f:\n",
        "  raw = f.read()"
      ],
      "execution_count": 251,
      "outputs": []
    },
    {
      "cell_type": "code",
      "metadata": {
        "id": "EOPzAGP_f9dv",
        "colab": {
          "base_uri": "https://localhost:8080/"
        },
        "outputId": "f38eaaec-e25d-46aa-d85f-4d3ed078d0b0"
      },
      "source": [
        "dishes = []\n",
        "\n",
        "for i in raw.split(\"\\n\")[1:-1]:\n",
        "  name, popularity, pop_change, similar, cost, like, country, ingredients, link, course, description, cals, time = i.split(\", \")\n",
        "  similar, ingredients = similar.split(\" | \"), ingredients.split(\" | \")\n",
        "  cost, cals, time = float(cost), int(cals), float(time)\n",
        "  like = 1 if like == \"Y\" else (-1 if like == \"N\" else 0)\n",
        "  dishes.append({\"Name\": name, \"Polularity\": popularity, \"Popularity change\": pop_change, \"Similar dishes\": similar, \"cost\": cost, \"Liked by Pratyaksh\": like, \"Country\": country, \"Ingredients\": ingredients, \"Desc\": description, \"Calories\": cals, \"Prep time\": time})\n",
        "\n",
        "print(f\"No. Dishes: {len(dishes)}, example dish: {dishes[0]}\")"
      ],
      "execution_count": 252,
      "outputs": [
        {
          "output_type": "stream",
          "text": [
            "No. Dishes: 18, example dish: {'Name': 'pepperoni pizza', 'Polularity': '99', 'Popularity change': '0', 'Similar dishes': ['Margherita Pizza'], 'cost': 3.5, 'Liked by Pratyaksh': 1, 'Country': 'Italy', 'Ingredients': ['tomatoes', 'pepperoni', 'cheese'], 'Desc': 'Even a novice cook can master the art of pizza with our simple step-by-step guide. Bellissimo!', 'Calories': 431000, 'Prep time': 0.4}\n"
          ],
          "name": "stdout"
        }
      ]
    },
    {
      "cell_type": "code",
      "metadata": {
        "id": "AaECXcOsg2IW"
      },
      "source": [
        "def P_A(dishes, dish):\n",
        "\n",
        "  def P_AgB(a, b, dishes):\n",
        "    for i in list(dishes[a][\"Similar dishes\"]):\n",
        "        if (dishes[b][\"Name\"].upper() == i.upper()):\n",
        "            return 1\n",
        "    else:\n",
        "        for x in list(dishes[a][\"Similar dishes\"]):\n",
        "            for k in list(dishes[b][\"Similar dishes\"]):\n",
        "                if x.upper() == k.upper():\n",
        "                    return 0.5\n",
        "    return 0\n",
        "\n",
        "  if dish[\"Liked by Pratyaksh\"] == 1:\n",
        "    return 1\n",
        "  if dish[\"Liked by Pratyaksh\"] == -1: \n",
        "    return 0\n",
        "\n",
        "  a_dictionary = {\"one\": 1, \"two\" : 2, \"three\": 3}\n",
        "\n",
        "  for i in range(len(dishes)):\n",
        "    if dishes[i][\"Name\"] == dish[\"Name\"]:\n",
        "      dish_index = i\n",
        "      del dishes[i]\n",
        "      break\n",
        "\n",
        "  prob = 0\n",
        "  for i in range(len(dishes)):\n",
        "    prob += P_AgB(i, dish_index, dishes.copy()) * P_A(dishes.copy(), dishes[i].copy())\n",
        "\n",
        "  return prob"
      ],
      "execution_count": 253,
      "outputs": []
    },
    {
      "cell_type": "code",
      "metadata": {
        "id": "Eu8v_pUxm2JN",
        "colab": {
          "base_uri": "https://localhost:8080/"
        },
        "outputId": "a1ab03c7-b2aa-4935-f105-5e38cace1997"
      },
      "source": [
        "for i in dishes:\n",
        "  i[\"Prob\"] = P_A(dishes.copy(), i.copy())\n",
        "\n",
        "dishes = sorted(dishes, key=lambda x : x[\"Prob\"])[::-1][:5]\n",
        "\n",
        "for output in dishes:\n",
        "  print(f\"\\x1b[31m{output['Name']}\\x1b[0m\\n{output['Desc']}\\ncost: £{output['cost']}     ingredients: {', '.join(output['Ingredients'])}       probability of liking this dish: {round(output['Prob']/sum([i['Prob'] for i in dishes]), 2)}\", end=\"\\n\\n\")"
      ],
      "execution_count": 254,
      "outputs": [
        {
          "output_type": "stream",
          "text": [
            "\u001b[31mchow mein\u001b[0m\n",
            "A classic Chinese dish of stir-fried egg noodles with shredded chicken breast. Experiment with different fish meat or vegetables\n",
            "cost: £4.0     ingredients: noodles, mangetout, spring onions       probability of liking this dish: 0.3\n",
            "\n",
            "\u001b[31msweet and sour chicken\u001b[0m\n",
            "Try an authentic version of this classic Chinese takeaway dish with natural sweetness and a warm chilli flavour to spice things up\n",
            "cost: £4.0     ingredients: chicken, tomatoes       probability of liking this dish: 0.3\n",
            "\n",
            "\u001b[31mdosa\u001b[0m\n",
            "Make your own dosa – Indian rice pancakes made from fermented batter. They take a little effort but are delicious served with aloo masala and other fillings\n",
            "cost: £2.5     ingredients: lentils, rice       probability of liking this dish: 0.26\n",
            "\n",
            "\u001b[31mStrawberry ice cream\u001b[0m\n",
            "Use sweet strawberries whilst they’re in season to make this fabulous homemade strawberry ice cream. It's perfect on its own or as an accompaniment summer desserts\n",
            "cost: £1.0     ingredients:        probability of liking this dish: 0.07\n",
            "\n",
            "\u001b[31mhoisin wraps\u001b[0m\n",
            "Make this delicious healthy take on a Peking duck wrap for a speedy snack or tasty lunch.\n",
            "cost: £1.5     ingredients: chicken       probability of liking this dish: 0.07\n",
            "\n"
          ],
          "name": "stdout"
        }
      ]
    },
    {
      "cell_type": "markdown",
      "metadata": {
        "id": "X11oo-AXs7Ni"
      },
      "source": [
        "Notes from after hackathon:\n",
        "1. We calculated the probability of liking each food, given the information about which food pratyaksh liked.\n",
        "\n",
        "```\n",
        "P(liking food a) = sum over other food( P(loking other food) * P(liking food a given like food b)\n",
        "(or P(A) = sum_B(P(B)P(A|B)))\n",
        "```\n",
        "\n",
        "P(B) is 1 or 0 if we already know if pratyaksh likes it or not. Otherwise, it is calculated recursively as above.\n",
        "\n",
        "P(A|B) <- 2^(-n+1), where n is the minimum number of jumps between similar foods to get from A to B (In other words, the values halves for each jump).\n",
        "\n",
        "The final answer also needs to be divided by the sum of foods to get the probability of each food being the facourite (otherwise we would get probabilities that are larger than 1).\n",
        "\n",
        "2. We have a slight issue that the values for P(A) and similar foods are often boolean, but with a larger dataset, we could get more discrete values.\n",
        "\n",
        "3. We could have written the P(A|B) function recursively to allow infinite range (as it is only 2 right now)."
      ]
    }
  ]
}