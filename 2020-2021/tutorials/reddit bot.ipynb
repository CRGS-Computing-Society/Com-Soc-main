{
  "nbformat": 4,
  "nbformat_minor": 0,
  "metadata": {
    "colab": {
      "name": "com soc praw.ipynb",
      "provenance": [],
      "collapsed_sections": []
    },
    "kernelspec": {
      "name": "python3",
      "display_name": "Python 3"
    }
  },
  "cells": [
    {
      "cell_type": "markdown",
      "metadata": {
        "id": "q7bhRkvx7XC2",
        "colab_type": "text"
      },
      "source": [
        "https://www.reddit.com/prefs/apps"
      ]
    },
    {
      "cell_type": "code",
      "metadata": {
        "id": "xmAe1M5l05ak",
        "colab_type": "code",
        "colab": {
          "base_uri": "https://localhost:8080/",
          "height": 354
        },
        "outputId": "a95e0525-edf3-47bf-e7f5-38672ab59c26"
      },
      "source": [
        "pip install praw"
      ],
      "execution_count": null,
      "outputs": [
        {
          "output_type": "stream",
          "text": [
            "Collecting praw\n",
            "\u001b[?25l  Downloading https://files.pythonhosted.org/packages/2c/15/4bcc44271afce0316c73cd2ed35f951f1363a07d4d5d5440ae5eb2baad78/praw-7.1.0-py3-none-any.whl (152kB)\n",
            "\r\u001b[K     |██▏                             | 10kB 20.4MB/s eta 0:00:01\r\u001b[K     |████▎                           | 20kB 2.1MB/s eta 0:00:01\r\u001b[K     |██████▌                         | 30kB 2.8MB/s eta 0:00:01\r\u001b[K     |████████▋                       | 40kB 3.1MB/s eta 0:00:01\r\u001b[K     |██████████▊                     | 51kB 2.5MB/s eta 0:00:01\r\u001b[K     |█████████████                   | 61kB 2.8MB/s eta 0:00:01\r\u001b[K     |███████████████                 | 71kB 3.0MB/s eta 0:00:01\r\u001b[K     |█████████████████▎              | 81kB 3.3MB/s eta 0:00:01\r\u001b[K     |███████████████████▍            | 92kB 3.5MB/s eta 0:00:01\r\u001b[K     |█████████████████████▌          | 102kB 3.4MB/s eta 0:00:01\r\u001b[K     |███████████████████████▊        | 112kB 3.4MB/s eta 0:00:01\r\u001b[K     |█████████████████████████▉      | 122kB 3.4MB/s eta 0:00:01\r\u001b[K     |████████████████████████████    | 133kB 3.4MB/s eta 0:00:01\r\u001b[K     |██████████████████████████████▏ | 143kB 3.4MB/s eta 0:00:01\r\u001b[K     |████████████████████████████████| 153kB 3.4MB/s \n",
            "\u001b[?25hCollecting update-checker>=0.17\n",
            "  Downloading https://files.pythonhosted.org/packages/d6/c3/aaf8a162df8e8f9d321237c7c0e63aff95b42d19f1758f96606e3cabb245/update_checker-0.17-py2.py3-none-any.whl\n",
            "Collecting websocket-client>=0.54.0\n",
            "\u001b[?25l  Downloading https://files.pythonhosted.org/packages/4c/5f/f61b420143ed1c8dc69f9eaec5ff1ac36109d52c80de49d66e0c36c3dfdf/websocket_client-0.57.0-py2.py3-none-any.whl (200kB)\n",
            "\u001b[K     |████████████████████████████████| 204kB 9.6MB/s \n",
            "\u001b[?25hCollecting prawcore<2.0,>=1.3.0\n",
            "  Downloading https://files.pythonhosted.org/packages/61/89/651078078f089c182164efd10d45d3b709b46e4e40b47e63759e76349dc1/prawcore-1.4.0-py3-none-any.whl\n",
            "Requirement already satisfied: requests>=2.3.0 in /usr/local/lib/python3.6/dist-packages (from update-checker>=0.17->praw) (2.23.0)\n",
            "Requirement already satisfied: six in /usr/local/lib/python3.6/dist-packages (from websocket-client>=0.54.0->praw) (1.12.0)\n",
            "Requirement already satisfied: urllib3!=1.25.0,!=1.25.1,<1.26,>=1.21.1 in /usr/local/lib/python3.6/dist-packages (from requests>=2.3.0->update-checker>=0.17->praw) (1.24.3)\n",
            "Requirement already satisfied: certifi>=2017.4.17 in /usr/local/lib/python3.6/dist-packages (from requests>=2.3.0->update-checker>=0.17->praw) (2020.6.20)\n",
            "Requirement already satisfied: idna<3,>=2.5 in /usr/local/lib/python3.6/dist-packages (from requests>=2.3.0->update-checker>=0.17->praw) (2.10)\n",
            "Requirement already satisfied: chardet<4,>=3.0.2 in /usr/local/lib/python3.6/dist-packages (from requests>=2.3.0->update-checker>=0.17->praw) (3.0.4)\n",
            "Installing collected packages: update-checker, websocket-client, prawcore, praw\n",
            "Successfully installed praw-7.1.0 prawcore-1.4.0 update-checker-0.17 websocket-client-0.57.0\n"
          ],
          "name": "stdout"
        }
      ]
    },
    {
      "cell_type": "code",
      "metadata": {
        "id": "lOO9T08S2EcA",
        "colab_type": "code",
        "colab": {}
      },
      "source": [
        "import praw"
      ],
      "execution_count": null,
      "outputs": []
    },
    {
      "cell_type": "code",
      "metadata": {
        "id": "SNQgSxju2F9O",
        "colab_type": "code",
        "colab": {}
      },
      "source": [
        "reddit = praw.Reddit(client_id=\"KYK4NO4TyjhRqQ\",\n",
        "                     client_secret=\"SAdgfNJtap6togVANKLp0ssCino\",\n",
        "                     username=\"api-account-2\",\n",
        "                     password=\"1234567890\",\n",
        "                     user_agent=\"notsurewhythisisathing\")"
      ],
      "execution_count": null,
      "outputs": []
    },
    {
      "cell_type": "code",
      "metadata": {
        "id": "oBynECLQ2g4Y",
        "colab_type": "code",
        "colab": {}
      },
      "source": [
        "hs_sub = reddit.subreddit(\"customhearthstone\")\n",
        "hot_hs_sub = hs_sub.hot(limit=5)"
      ],
      "execution_count": null,
      "outputs": []
    },
    {
      "cell_type": "code",
      "metadata": {
        "id": "pmm0Dcd23Hq1",
        "colab_type": "code",
        "colab": {
          "base_uri": "https://localhost:8080/",
          "height": 105
        },
        "outputId": "55551978-1506-4715-ad47-2c1435a9c428"
      },
      "source": [
        "for post in hot_hs_sub:\n",
        "  print(post)  # this prints just the id (obj)"
      ],
      "execution_count": null,
      "outputs": [
        {
          "output_type": "stream",
          "text": [
            "hgxohx\n",
            "hpdtqd\n",
            "hquu0j\n",
            "hqlhkn\n",
            "hqvv6v\n"
          ],
          "name": "stdout"
        }
      ]
    },
    {
      "cell_type": "code",
      "metadata": {
        "id": "o4jrxD8h3LL3",
        "colab_type": "code",
        "colab": {
          "base_uri": "https://localhost:8080/",
          "height": 54
        },
        "outputId": "4787f2d5-080a-460c-82d0-8ea55ad18a5b"
      },
      "source": [
        "print(dir(hot_hs_sub))  # after dunders, we can see that we can get attributes of the posts"
      ],
      "execution_count": null,
      "outputs": [
        {
          "output_type": "stream",
          "text": [
            "['__abstractmethods__', '__args__', '__class__', '__delattr__', '__dict__', '__dir__', '__doc__', '__eq__', '__extra__', '__format__', '__ge__', '__getattribute__', '__gt__', '__hash__', '__init__', '__init_subclass__', '__iter__', '__le__', '__lt__', '__module__', '__ne__', '__new__', '__next__', '__next_in_mro__', '__orig_bases__', '__origin__', '__parameters__', '__reduce__', '__reduce_ex__', '__repr__', '__setattr__', '__sizeof__', '__slots__', '__str__', '__subclasshook__', '__tree_hash__', '__weakref__', '_abc_cache', '_abc_generic_negative_cache', '_abc_generic_negative_cache_version', '_abc_negative_cache', '_abc_negative_cache_version', '_abc_registry', '_exhausted', '_gorg', '_list_index', '_listing', '_next_batch', '_reddit', '_safely_add_arguments', 'limit', 'params', 'parse', 'url', 'yielded']\n"
          ],
          "name": "stdout"
        }
      ]
    },
    {
      "cell_type": "code",
      "metadata": {
        "id": "psAyWnkF3hW4",
        "colab_type": "code",
        "colab": {}
      },
      "source": [
        "for post in hot_hs_sub:\n",
        "  print(post.title)  # interestingly, the api returns a generator, so we lose contents of hot_hs_sub unless we put it in a list manually"
      ],
      "execution_count": null,
      "outputs": []
    },
    {
      "cell_type": "code",
      "metadata": {
        "id": "Ru_n9kDZ3uOC",
        "colab_type": "code",
        "colab": {}
      },
      "source": [
        "hot_hs_sub = list(hs_sub.hot(limit=5))"
      ],
      "execution_count": null,
      "outputs": []
    },
    {
      "cell_type": "code",
      "metadata": {
        "id": "WEJYAANR4Aly",
        "colab_type": "code",
        "colab": {
          "base_uri": "https://localhost:8080/",
          "height": 105
        },
        "outputId": "0ff99428-7551-474d-999e-f1435a8e59e0"
      },
      "source": [
        "for post in hot_hs_sub:\n",
        "  print(post.title)"
      ],
      "execution_count": null,
      "outputs": [
        {
          "output_type": "stream",
          "text": [
            "Thanks to everyone for helping raise $101 for Hearthcards!\n",
            "Weekly Design Competition #274: Temporary Hero Power Upgrades (VOTING)\n",
            "Idea: Cards that can only be used in games against friends that allow for maximum testing and craziness.\n",
            "The cycle of life can be cruel...\n",
            "\"Roses are Red, Choosing One is Nice, if you have the mana, you may Choose Twice.\"\n"
          ],
          "name": "stdout"
        }
      ]
    },
    {
      "cell_type": "code",
      "metadata": {
        "id": "krCnR8VF4Eb4",
        "colab_type": "code",
        "colab": {
          "base_uri": "https://localhost:8080/",
          "height": 70
        },
        "outputId": "f7838cb6-31f6-4a99-bdd4-b9f8389a0e1f"
      },
      "source": [
        "for post in hot_hs_sub:\n",
        "  if not post.stickied:  # some are pinned\n",
        "    print(post.title)"
      ],
      "execution_count": null,
      "outputs": [
        {
          "output_type": "stream",
          "text": [
            "I MIGHT DIE, BUT I WILL KILL THIS MEME!\n",
            "Since the Jormungar feed on Mountain Giants, I thought they might have a similar ability.\n",
            "A support card for those late late game decks, he’s never a bad draw.\n"
          ],
          "name": "stdout"
        }
      ]
    },
    {
      "cell_type": "code",
      "metadata": {
        "id": "gaqDF1yV4VDu",
        "colab_type": "code",
        "colab": {
          "base_uri": "https://localhost:8080/",
          "height": 703
        },
        "outputId": "b4903894-4a2e-4ab6-bd1a-f9a9dcd32077"
      },
      "source": [
        "new_hs_sub = hs_sub.new(limit=1000)\n",
        "for post in new_hs_sub:\n",
        "  if post.author == \"PigeonPoo123\":\n",
        "    print(\"\\n\", post.title, \"\\nupvotes: \", post.ups)"
      ],
      "execution_count": null,
      "outputs": [
        {
          "output_type": "stream",
          "text": [
            "\n",
            " 366 Days of Hearthstone, Day 194: Brilliant versus Spell Hunter! \n",
            "upvotes:  10\n",
            "\n",
            " 366 Days of Hearthstone, Day 193: Sergeants are well-known for barking out orders. He takes it to a whole new level! \n",
            "upvotes:  52\n",
            "\n",
            " 366 Days of Hearthstone, Day 192: Hit first, think later. \n",
            "upvotes:  28\n",
            "\n",
            " 366 Days of Hearthstone, Day 191: She really doesn’t like Mages. \n",
            "upvotes:  0\n",
            "\n",
            " 366 Days of Hearthstone, Day 190: Guaranteed to be on the top of your deck the second you hit 5HP. \n",
            "upvotes:  95\n",
            "\n",
            " 366 Days of Hearthstone, Day 189: Cries of ‘Hello! Hello! Hello!’ just got even scarier... if that was even possible. \n",
            "upvotes:  14\n",
            "\n",
            " 366 Days of Hearthstone, Day 188: He’s emblazoned! And also very blazing. Seriously, he’s on fire. Someone should probably help him. \n",
            "upvotes:  8\n",
            "\n",
            " 366 Days of Hearthstone, Day 187: Dinosaurs and Silver Hand Recruits becomes the bestest of buds! \n",
            "upvotes:  19\n",
            "\n",
            " 366 Days of Hearthstone, Day 186: He can adapt to deal with any situation! Except a 9-Health minion. \n",
            "upvotes:  8\n",
            "\n",
            " 366 Days of Hearthstone, Day 185: Great synergy with Mal’ganis! \n",
            "upvotes:  1\n",
            "\n",
            " 366 Days of Hearthstone, Day 184: It’s a portal to another dimension where garbage Classic cards see play! \n",
            "upvotes:  9\n",
            "\n",
            " 366 Days of Hearthstone, Day 183: A 0-cost Nat Pagle? She really is wise! \n",
            "upvotes:  60\n",
            "\n",
            " 366 Days of Hearthstone, Day 182: Doom doesn’t really need a herald. It’s pretty good at making itself well-known anyway. \n",
            "upvotes:  4\n"
          ],
          "name": "stdout"
        }
      ]
    },
    {
      "cell_type": "code",
      "metadata": {
        "id": "gRgNtPgzsIGd",
        "colab_type": "code",
        "colab": {
          "base_uri": "https://localhost:8080/",
          "height": 248
        },
        "outputId": "85f78222-56ba-4aef-d3e4-0ce10debce4c"
      },
      "source": [
        "import matplotlib.pyplot as plt\n",
        "\n",
        "plt.imshow([[1]])\n",
        "plt.axis('off')\n",
        "plt.savefig('surfboard.png')"
      ],
      "execution_count": null,
      "outputs": [
        {
          "output_type": "display_data",
          "data": {
            "image/png": "[encoded data removed]",
            "text/plain": [
              "<Figure size 432x288 with 1 Axes>"
            ]
          },
          "metadata": {
            "tags": [],
            "needs_background": "light"
          }
        }
      ]
    },
    {
      "cell_type": "code",
      "metadata": {
        "id": "E6dWUEmg4_kg",
        "colab_type": "code",
        "colab": {
          "base_uri": "https://localhost:8080/",
          "height": 90
        },
        "outputId": "cd5ce02f-1be9-461b-afc8-7cbc2135e16a"
      },
      "source": [
        "is_sub = reddit.subreddit(\"InvisibleSurfboards\")  # (just using a dead sub i found)\n",
        "#is_sub.submit('New surfboard', selftext='Looks pretty neat')  # can use url=... for image, as well"
      ],
      "execution_count": null,
      "outputs": [
        {
          "output_type": "stream",
          "text": [
            "/usr/local/lib/python3.6/dist-packages/ipykernel_launcher.py:2: DeprecationWarning: Reddit will check for validation on all posts around May-June 2020. It is recommended to check for validation by setting reddit.validate_on_submit to True.\n",
            "  \n"
          ],
          "name": "stderr"
        },
        {
          "output_type": "execute_result",
          "data": {
            "text/plain": [
              "Submission(id='hqhzmd')"
            ]
          },
          "metadata": {
            "tags": []
          },
          "execution_count": 47
        }
      ]
    },
    {
      "cell_type": "code",
      "metadata": {
        "id": "wOSFPdU85xic",
        "colab_type": "code",
        "colab": {
          "base_uri": "https://localhost:8080/",
          "height": 90
        },
        "outputId": "0278ee36-d558-444d-e8aa-91e7073b44ec"
      },
      "source": [
        "is_sub = reddit.subreddit(\"InvisibleSurfboards\")  # (just using a dead sub i found)\n",
        "is_sub.submit('Hey guys look at my new surfboard', url=\"https://raw.githubusercontent.com/Joseph-Rance/files/master/surfboard.png\")"
      ],
      "execution_count": null,
      "outputs": [
        {
          "output_type": "stream",
          "text": [
            "/usr/local/lib/python3.6/dist-packages/ipykernel_launcher.py:2: DeprecationWarning: Reddit will check for validation on all posts around May-June 2020. It is recommended to check for validation by setting reddit.validate_on_submit to True.\n",
            "  \n"
          ],
          "name": "stderr"
        },
        {
          "output_type": "execute_result",
          "data": {
            "text/plain": [
              "Submission(id='hr2g37')"
            ]
          },
          "metadata": {
            "tags": []
          },
          "execution_count": 23
        }
      ]
    },
    {
      "cell_type": "code",
      "metadata": {
        "id": "CCE9YoXStsEU",
        "colab_type": "code",
        "colab": {
          "base_uri": "https://localhost:8080/",
          "height": 34
        },
        "outputId": "4c9f2688-9e73-4656-8f8c-02542c74a22c"
      },
      "source": [
        "from random import choice\n",
        "\n",
        "adjectives = [\"invisible\", \"not visible\", \"visibln't\", \"transparent\", \"not seeable\", \"see-through\"]\n",
        "nouns = [\"surfboard\", \"water sled\", \"board of surfing\", \"water skateboard\", \"driftwood (but its streamlined)\", \"surfage slab\"]\n",
        "names = [\"dudes\", \"surfers\", \"bros\", \"people\", \"peasants\", \"water walkers\", \"water skateboarders\", \"blind people\", \"pigeons\", \"water benders\", \"white walkers\"]\n",
        "\n",
        "text = \"hey \" + choice(names) + \" look at my \" + choice(adjectives) + \" \" + choice(nouns)\n",
        "\n",
        "print(text)"
      ],
      "execution_count": null,
      "outputs": [
        {
          "output_type": "stream",
          "text": [
            "hey water benders look at my not visible surfboard\n"
          ],
          "name": "stdout"
        }
      ]
    },
    {
      "cell_type": "code",
      "metadata": {
        "id": "zgVRKaaT0IUe",
        "colab_type": "code",
        "colab": {}
      },
      "source": [
        "is_sub = reddit.subreddit(\"InvisibleSurfboards\")\n",
        "is_sub.submit(text, selftext=\"\")"
      ],
      "execution_count": null,
      "outputs": []
    },
    {
      "cell_type": "code",
      "metadata": {
        "id": "FA0o71Nh0yQT",
        "colab_type": "code",
        "colab": {}
      },
      "source": [
        ""
      ],
      "execution_count": null,
      "outputs": []
    }
  ]
}