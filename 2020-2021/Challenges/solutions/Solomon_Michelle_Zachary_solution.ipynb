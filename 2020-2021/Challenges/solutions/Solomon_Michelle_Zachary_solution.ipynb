{
  "nbformat": 4,
  "nbformat_minor": 0,
  "metadata": {
    "colab": {
      "name": "com soc hackathon.ipynb",
      "provenance": [],
      "collapsed_sections": []
    },
    "kernelspec": {
      "name": "python3",
      "display_name": "Python 3"
    }
  },
  "cells": [
    {
      "cell_type": "markdown",
      "metadata": {
        "id": "rBBJnQloMLqz"
      },
      "source": [
        "### PLEASE DO NOT WRITE YOUR CODE DIRECTLY IN THIS NOTEBOOK. MAKE A COPY BY GOING TO FILE > SAVE A COPY IN DRIVE\n",
        "Recently home from his shopping trip, Pratykash is now hungry. He has a large library of recipies, but doesn't know what to cook. He needs you help to pick what to make.\n",
        "\n",
        "The task is to create a search engine that helps Pratyaksh decide what he wants to make. How the search engine works is up to you, but it should return a list of dishes ranked in order from most relevant to least relevant. You can determine relevance from whichever factors you want (e.g. keywords, ingredients, or similar dishes that Pratykash has already had).\n",
        "\n",
        "Becuase we only have one hour, you won't be judged on the interface, so a plain python interface is fine (i.e. you can get the information about what Pratyaksh is searching for through normal python inputs).\n",
        "\n",
        "You will be scored on 4 main criteria:\n",
        "1. How intuitive is the search tool to use?\n",
        "2. How accurate are the results it returns (e.g. if it has an option for food country of origin, is the food returned from that country)?\n",
        "3. How \"intelligent\" is the search algorithm (an intelligent algorithm may take into account many factors such as food popularity and similarity to dishes Pratyaksh has already had, rather than just one or two)\n",
        "4. How original the idea is\n",
        "\n",
        "We will present our solutions next week, and the winner will be decided by vote\n",
        "\n",
        "The recipies are supplied in this notebook (there is a `dishes` list where each element contains a dictionary which describes a single dish), along with a basic, example search engine:"
      ]
    },
    {
      "cell_type": "code",
      "metadata": {
        "id": "WdCNJeZmMK16",
        "colab": {
          "base_uri": "https://localhost:8080/"
        },
        "outputId": "56600f86-9baa-4a7b-b379-e9377728c35f"
      },
      "source": [
        "!wget https://raw.githubusercontent.com/Joseph-Rance/Computing-Soc/master/Challenges/com%20soc%20ingredients.txt"
      ],
      "execution_count": null,
      "outputs": [
        {
          "output_type": "stream",
          "text": [
            "--2020-11-26 17:30:16--  https://raw.githubusercontent.com/Joseph-Rance/Computing-Soc/master/Challenges/com%20soc%20ingredients.txt\n",
            "Resolving raw.githubusercontent.com (raw.githubusercontent.com)... 151.101.0.133, 151.101.64.133, 151.101.128.133, ...\n",
            "Connecting to raw.githubusercontent.com (raw.githubusercontent.com)|151.101.0.133|:443... connected.\n",
            "HTTP request sent, awaiting response... 200 OK\n",
            "Length: 5627 (5.5K) [text/plain]\n",
            "Saving to: ‘com soc ingredients.txt.3’\n",
            "\n",
            "\r          com soc i   0%[                    ]       0  --.-KB/s               \rcom soc ingredients 100%[===================>]   5.50K  --.-KB/s    in 0s      \n",
            "\n",
            "2020-11-26 17:30:16 (52.0 MB/s) - ‘com soc ingredients.txt.3’ saved [5627/5627]\n",
            "\n"
          ],
          "name": "stdout"
        }
      ]
    },
    {
      "cell_type": "code",
      "metadata": {
        "id": "RkQO9wRYiWIE"
      },
      "source": [
        "def get_sort_order(user_in):\n",
        "  user_in = user_in.lower()\n",
        "  mode = 'popular'\n",
        "  cost_terms = [\"cost\" , \"price\", \"cheap\", \"expensive\"]\n",
        "  easy_terms = [\"quick\", \"simple\", \"fast\", \"easy\"]\n",
        "  big_terms = [\"big\", \"large\", \"calorific\", \"heavy\", \"comfort food\", \"winter\"]\n",
        "  small_terms = [\"small\", \"light\", \"summer\"]\n",
        "  for i in big_terms:\n",
        "    if i in user_in:\n",
        "      mode = \"big\"\n",
        "  for i in small_terms:\n",
        "    if i in user_in:\n",
        "      mode = \"small\"\n",
        "  for i in easy_terms:\n",
        "    if i in user_in:\n",
        "      mode = \"easy\"\n",
        "  for i in cost_terms:\n",
        "    if i in user_in:\n",
        "      mode = \"cost\"\n",
        "  return mode"
      ],
      "execution_count": null,
      "outputs": []
    },
    {
      "cell_type": "code",
      "metadata": {
        "id": "_aB0yv7rlG0A"
      },
      "source": [
        "def sortPrepTime():\n",
        "  output = []\n",
        "  for dish in dishes:\n",
        "    output.append(dish[\"Prep time\"])\n",
        "  output.sort()\n",
        " \n",
        "  new_output = []\n",
        "  for i in output:\n",
        "    for dish in dishes:\n",
        "      if i == dish[\"Prep time\"]:\n",
        "        print(f\"\\x1b[31m{dish['Name']}\\x1b[0m\\n{dish['Desc']}\\nTime: {dish['Prep time']}     ingredients: {', '.join(dish['Ingredients'])}\", end=\"\\n\\n\")\n",
        "  return new_output\n"
      ],
      "execution_count": null,
      "outputs": []
    },
    {
      "cell_type": "code",
      "metadata": {
        "id": "BZ8tCtJWnye7"
      },
      "source": [
        "def get_display_only(user_in):\n",
        "  user_in = user_in.lower()\n",
        "  user_words = user_in.split(\" \")\n",
        "  mode = None\n",
        "  ingredients = ['tomatoes', 'pepperoni', 'cheese', 'pasta', 'spinach', 'rice', 'mushroom', 'egg', 'sugar', 'beef', 'lamb', 'potatoes', 'lentils', 'onion', 'chicken', 'naan bread', 'chilli', 'noodles', 'mangetout']\n",
        "  countries = [\"italy\", \"italian\", \"chinese\", \"china\", \"thai\", \"thailand\", \"indian\", \"india\"]\n",
        "  useful = []\n",
        "  used_ingredients = []\n",
        "  for i in ingredients:\n",
        "    if i in user_in:\n",
        "      used_ingredients.append(i)\n",
        "  for recipe in dishes:\n",
        "    if recipe[\"Name\"].lower() in user_in:\n",
        "      useful.append(recipe)\n",
        "    for i in user_words:\n",
        "      if i in recipe[\"Name\"].lower():\n",
        "        useful.append(recipe)\n",
        "    for i in used_ingredients:\n",
        "      if i in recipe[\"Ingredients\"]:\n",
        "        useful.append(recipe)\n",
        "    for i in user_words:\n",
        "      if i in recipe[\"Country\"].lower():\n",
        "        useful.append(recipe)\n",
        "  return useful"
      ],
      "execution_count": null,
      "outputs": []
    },
    {
      "cell_type": "code",
      "metadata": {
        "id": "YrJJq0A2fw_p"
      },
      "source": [
        "with open(\"com soc ingredients.txt\", \"r\") as f:\n",
        "  raw = f.read()"
      ],
      "execution_count": null,
      "outputs": []
    },
    {
      "cell_type": "code",
      "metadata": {
        "id": "ywbBIF9AfS9Y",
        "colab": {
          "base_uri": "https://localhost:8080/"
        },
        "outputId": "6b5a9d44-27cd-449b-d4e2-783b4875e852"
      },
      "source": [
        "dishes = []\n",
        "\n",
        "for i in raw.split(\"\\n\")[1:-1]:\n",
        "  name, popularity, pop_change, similar, cost, like, country, ingredients, link, course, description, cals, time = i.split(\", \")\n",
        "  similar, ingredients = similar.split(\" | \"), ingredients.split(\" | \")\n",
        "  cost, cals, time = float(cost), int(cals), float(time)\n",
        "  like = 1 if like == \"Y\" else (-1 if like == \"n\" else 0)\n",
        "  dishes.append({\"Name\": name, \"Polularity\": popularity, \"Popularity change\": pop_change, \"Similar dishes\": similar, \"cost\": cost, \"Liked by Pratyaksh\": like, \"Country\": country, \"Ingredients\": ingredients, \"Desc\": description, \"Calories\": cals, \"Prep time\": time})\n",
        "\n",
        "sortOrSearch = input(f\"\\x1b[Would you like to sort available meals by a parameter (A) or find all dishes matching a keyword? (B) Please type (A/B): \")\n",
        "\n",
        "if sortOrSearch.lower() == \"a\":\n",
        "  #SORT\n",
        "  userInput = input(\"Sort available meals by: \")\n",
        "  sortParam = get_sort_order(userInput)\n",
        "\n",
        "  #sort by cost\n",
        "  if sortParam == \"cost\":\n",
        "\n",
        "    if userInput == \"cheap\":\n",
        "      outputs = sorted(dishes, key=lambda x : x[sortParam], reverse=True)[::-1]\n",
        "    else:\n",
        "      outputs = sorted(dishes, key=lambda x : x[sortParam])[::-1]\n",
        "\n",
        "  #sort by prep time\n",
        "  if sortParam == \"easy\":\n",
        "    print(sortPrepTime())\n",
        "\n",
        "elif sortOrSearch.lower() == \"b\":\n",
        "  #SEARCH\n",
        "  keyword = input(\"Keyword to search for: \")\n",
        "  sortParam = get_display_only(keyword)\n",
        "  #print(sortParam)\n",
        "  #outputs = sorted(dishes, key=lambda x : x[sortParam], reverse=True)[::-1]\n",
        "\n",
        "\n",
        "for output in dishes:\n",
        "  print(f\"\\x1b[31m{output['Name']}\\x1b[0m\\n{output['Desc']}\\ncost: £{output['cost']}     ingredients: {', '.join(output['Ingredients'])}\", end=\"\\n\\n\")\n"
      ],
      "execution_count": null,
      "outputs": [
        {
          "output_type": "stream",
          "text": [
            "\u001b[Would you like to sort available meals by a parameter (A) or find all dishes matching a keyword? (B) Please type (A/B): A\n",
            "Sort available meals by: sweet\n",
            "\u001b[31mpepperoni pizza\u001b[0m\n",
            "Even a novice cook can master the art of pizza with our simple step-by-step guide. Bellissimo!\n",
            "cost: £3.5     ingredients: tomatoes, pepperoni, cheese\n",
            "\n",
            "\u001b[31mmargherita pizza\u001b[0m\n",
            "A great recipe for Homemade Pepperoni Pizza that can be adapted to accomodate any topping you like.\n",
            "cost: £2.0     ingredients: tomatoes, cheese\n",
            "\n",
            "\u001b[31mpasta\u001b[0m\n",
            "Whip up our easy vegetarian caponata pasta in just 20 minutes. It's simple to make and packs three of your five-a-day into one delicious meal\n",
            "cost: £4.0     ingredients: tomatoes, pasta, spinach\n",
            "\n",
            "\u001b[31mrisotto\u001b[0m\n",
            "Using simple storecupboard and freezer ingredients this pea and chorizo risotto makes an easy midweek meal. Garnish with crisped chorizo and grated parmesan\n",
            "cost: £6.0     ingredients: rice, mushroom, cheese\n",
            "\n",
            "\u001b[31mtiramisu\u001b[0m\n",
            "Create this superb version of the classic creamy Italian dessert. It's the perfect ending to a decadent meal: rich yet light laced with booze and a coffee hit to pick you up\n",
            "cost: £3.0     ingredients: egg, cheese, sugar\n",
            "\n",
            "\u001b[31mlasagna\u001b[0m\n",
            "Cook this lasagne for the family on a busy weeknight. It only takes 15 minutes to prepare and uses just five ingredients including shop-bought ravioli\n",
            "cost: £4.25     ingredients: beef, tomatoes, pasta, cheese\n",
            "\n",
            "\u001b[31mspaghetti\u001b[0m\n",
            "Our best ever spaghetti bolognese is super easy and a true Italian classic with a meaty chilli sauce. This recipe comes courtesy of BBC Good Food user Andrew Balmer\n",
            "cost: £3.5     ingredients: pasta, tomatoes, cheese\n",
            "\n",
            "\u001b[31mlamb curry\u001b[0m\n",
            "Try this spicy lamb curry so named as it was once cooked by the chefs working on the Indian railways in the 1900s. Lamb on the bone gives loads of flavour\n",
            "cost: £3.5     ingredients: lamb, potatoes\n",
            "\n",
            "\u001b[31mbombay potatoes\u001b[0m\n",
            "Enjoy Bombay potatoes as a brilliant side dish to an epic feast. These Indian-style potatoes made with nuggets of juicy tomato are super-easy to make spicy and moreish\n",
            "cost: £4.0     ingredients: potatoes, tomatoes, onion\n",
            "\n",
            "\u001b[31mdosa\u001b[0m\n",
            "Make your own dosa – Indian rice pancakes made from fermented batter. They take a little effort but are delicious served with aloo masala and other fillings\n",
            "cost: £2.5     ingredients: lentils, rice\n",
            "\n",
            "\u001b[31mmild chicken curry\u001b[0m\n",
            "A mildly-spiced curry with a rich yogurt sauce that will appeal to adults and kids alike\n",
            "cost: £4.0     ingredients: onion, chicken\n",
            "\n",
            "\u001b[31mcoronation chicken\u001b[0m\n",
            "Top Indian bread with shredded meat fruity mild curry sauce and a carrot and cabbage slaw\n",
            "cost: £4.5     ingredients: chicken, naan bread\n",
            "\n",
            "\u001b[31msweet and sour chicken\u001b[0m\n",
            "Try an authentic version of this classic Chinese takeaway dish with natural sweetness and a warm chilli flavour to spice things up\n",
            "cost: £4.0     ingredients: chicken, tomatoes\n",
            "\n",
            "\u001b[31mnoodles\u001b[0m\n",
            "This low-fat low-calorie version of your favourite stir-fried takeaway will be ready in 20 minutes and is packed with prawns and plenty of flavour\n",
            "cost: £1.0     ingredients: pasta, egg, chilli\n",
            "\n",
            "\u001b[31megg-fried rice\u001b[0m\n",
            "Don't call the Chinese takeaway – make your own egg-fried rice. Use leftover rice or cook and dry it on a plate before using so it doesn't stick to the wok\n",
            "cost: £1.5     ingredients: rice, onion, egg\n",
            "\n",
            "\u001b[31mchow mein\u001b[0m\n",
            "A classic Chinese dish of stir-fried egg noodles with shredded chicken breast. Experiment with different fish meat or vegetables\n",
            "cost: £4.0     ingredients: noodles, mangetout, spring onions\n",
            "\n",
            "\u001b[31mhoisin wraps\u001b[0m\n",
            "Make this delicious healthy take on a Peking duck wrap for a speedy snack or tasty lunch.\n",
            "cost: £1.5     ingredients: chicken\n",
            "\n",
            "\u001b[31mStrawberry ice cream\u001b[0m\n",
            "Use sweet strawberries whilst they’re in season to make this fabulous homemade strawberry ice cream. It's perfect on its own or as an accompaniment summer desserts\n",
            "cost: £1.0     ingredients: \n",
            "\n"
          ],
          "name": "stdout"
        }
      ]
    },
    {
      "cell_type": "markdown",
      "metadata": {
        "id": "AcJMZ1TcnDX_"
      },
      "source": [
        "                      \n",
        "                      the end\n",
        "                      \n"
      ]
    },
    {
      "cell_type": "code",
      "metadata": {
        "id": "EOPzAGP_f9dv"
      },
      "source": [
        "dishes = []\n",
        "\n",
        "for i in raw.split(\"\\n\")[1:-1]:\n",
        "  name, popularity, pop_change, similar, cost, like, country, ingredients, link, course, description, cals, time = i.split(\", \")\n",
        "  similar, ingredients = similar.split(\" | \"), ingredients.split(\" | \")\n",
        "  cost, cals, time = float(cost), int(cals), float(time)\n",
        "  like = 1 if like == \"Y\" else (-1 if like == \"n\" else 0)\n",
        "  dishes.append({\"Name\": name, \"Polularity\": popularity, \"Popularity change\": pop_change, \"Similar dishes\": similar, \"cost\": cost, \"Liked by Pratyaksh\": like, \"Country\": country, \"Ingredients\": ingredients, \"Desc\": description, \"Calories\": cals, \"Prep time\": time})\n",
        "\n",
        "print(f\"No. Dishes: {len(dishes)}, example dish: {dishes[0]}\")"
      ],
      "execution_count": null,
      "outputs": []
    },
    {
      "cell_type": "markdown",
      "metadata": {
        "id": "bxHXQkmomA9t"
      },
      "source": [
        "simple example v.....................^ you get this information about each dish in the `dishes` list"
      ]
    },
    {
      "cell_type": "code",
      "metadata": {
        "id": "Eu8v_pUxm2JN"
      },
      "source": [
        "keyword = input(\"what would you like to eat? \")\n",
        "print()\n",
        "\n",
        "outputs = []\n",
        "for dish in dishes:\n",
        "  if keyword in (dish[\"Name\"] + dish[\"Desc\"] + \" \".join(dish[\"Ingredients\"])).lower():\n",
        "    outputs.append(dish)\n",
        "\n",
        "outputs = sorted(outputs, key=lambda x : x[\"cost\"])[::-1]\n",
        "\n",
        "for output in outputs:\n",
        "  print(f\"\\x1b[31m{output['Name']}\\x1b[0m\\n{output['Desc']}\\ncost: £{output['cost']}     ingredients: {', '.join(output['Ingredients'])}\", end=\"\\n\\n\")"
      ],
      "execution_count": null,
      "outputs": []
    },
    {
      "cell_type": "markdown",
      "metadata": {
        "id": "yKc9Cn4pmC-b"
      },
      "source": [
        "Some ideas if you can't think of anything:\n",
        " - Word similarity checker: If i write \"tomato\", also return \"tomatoes\" - can you find a way to split the stem off the word to work this out automatically?\n",
        " - trending dishes using the popularity change metric\n",
        " - create a value function for each dish given the inputs from the user and the dish info. Then show dishes in order of value\n",
        " - bargin finder: put in combinations of cheap ingredients and find some dishes that use those ingredients\n",
        " - Dishes that pratyaksh hasn't had (\"Liked by Pratyaksh\" = 0), but did like similar dishes\n",
        " - show one healthy option, one cheap option, one easy to prepare option etc. for each result\n",
        " - Display a score for different metrics (e.g. cost, healthiness, popularity) in results"
      ]
    },
    {
      "cell_type": "markdown",
      "metadata": {
        "id": "ykvOfaH9p85u"
      },
      "source": [
        "There are no criteria for how your output looks, but if you have time at the end, why not add some markdown in?"
      ]
    },
    {
      "cell_type": "code",
      "metadata": {
        "id": "0NptRx46peYI",
        "colab": {
          "base_uri": "https://localhost:8080/",
          "height": 46
        },
        "outputId": "cc404d85-b656-4900-83f6-9e172653c6f1"
      },
      "source": [
        "from IPython.display import Markdown\n",
        "display(Markdown('**hi**'))"
      ],
      "execution_count": null,
      "outputs": [
        {
          "output_type": "display_data",
          "data": {
            "text/markdown": "**hi**",
            "text/plain": [
              "<IPython.core.display.Markdown object>"
            ]
          },
          "metadata": {
            "tags": []
          }
        }
      ]
    },
    {
      "cell_type": "code",
      "metadata": {
        "id": "kSzkRNGqp4kB"
      },
      "source": [
        ""
      ],
      "execution_count": null,
      "outputs": []
    }
  ]
}
