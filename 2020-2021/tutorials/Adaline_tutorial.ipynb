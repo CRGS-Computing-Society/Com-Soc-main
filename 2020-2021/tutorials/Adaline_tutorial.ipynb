{
  "nbformat": 4,
  "nbformat_minor": 0,
  "metadata": {
    "colab": {
      "name": "Adaline tutorial.ipynb",
      "provenance": [],
      "collapsed_sections": []
    },
    "kernelspec": {
      "name": "python3",
      "display_name": "Python 3"
    }
  },
  "cells": [
    {
      "cell_type": "markdown",
      "metadata": {
        "id": "ey-VDDO3qYb7"
      },
      "source": [
        "We saw last week how to use gradient descent to minimise a function. Today we'll look at extending this idea to machine learning. I've put in any maths needed for differentiation, but don't worry if you don't understand it: If you just accept it as correct for now and come back to look at it when you have covered it in school in a few months that will be fine."
      ]
    },
    {
      "cell_type": "markdown",
      "metadata": {
        "id": "rEvVhgIbq6fh"
      },
      "source": [
        "Machine learning is quite a wide subject, but we'll be looking at Adaline today. The ideas behind Adaline can be scaled up and applied to larger neural networks without much change to the fundamental ideas. Of course, there are plenty of other methods in ML but this is perhaps the most used type."
      ]
    },
    {
      "cell_type": "markdown",
      "metadata": {
        "id": "qakIxgWEsDGT"
      },
      "source": [
        "Before we begin with how Adaline works, I want to say a little bit about the components of ML that are not part of the main model such as model validation and data preprocessing. We won't be looking at them very much today, but these are integral parts of the ML process."
      ]
    },
    {
      "cell_type": "markdown",
      "metadata": {
        "id": "lq_Cs--AsvIf"
      },
      "source": [
        "# AdaLiNe (Adaptive Linear Neuron) explanation"
      ]
    },
    {
      "cell_type": "markdown",
      "metadata": {
        "id": "fKBRxgL8s1Tz"
      },
      "source": [
        "With Adaline, we begin by creaing an untrained model. This model will initially be worthless as it is untrained, so the outputs will effectively be random wrt the inputs.\n",
        "\n",
        "If we take the example of classifying images of handwritten numbers, we would create a model that is a function which takes an image as input and returns a number (in this case from 0 to 9 inclusive).\n",
        "\n",
        "The outputs would be incorrect to begin with, as this function is untrained.\n",
        "\n",
        "When we train the model, we need to have some way of changing how it behaves so that we can allow it to improve through training. We do this by giving it a second input, w (for weights), which indicates its behaviour.\n",
        "\n",
        "We now have:\n",
        "f(image, weights) -> prediction for image content\n",
        "\n",
        "Before we get onto how we train this function, let's define it. Because we are using Adaline, we can define the function as follows (more complex ML algorithms use more complex functions, but these are also more difficult to train):\n",
        "```\n",
        "f(image, weights) = image ⋅ weights\n",
        "```\n",
        "This may seem like strange notation, so I'll explain what it means. First of all, the image input will be a vector - that is a simple list of numbers. The weigths input will also be a vector the same length as the image.\n",
        "\n",
        "The `⋅` operator is called the \"dot product\". In the case of two **vectors** (note this does *not* apply to matrices), the dot product computes the sum of the products of corresponding elements.\n",
        "\n",
        "For example:\n",
        "```\n",
        "[ 1 ]   [ 4 ]\n",
        "[ 2 ] . [ 5 ] = 1*4 + 2*5 + 3*6 = 4 + 10 + 18 = 32\n",
        "[ 3 ]   [ 6 ]\n",
        "```\n",
        "\n",
        "If we multiply the weights with the image pixels elementwise, it means that each weight dictates how much the value of each element contributes to the overall value (weights can be any real number, inc. negatives).\n",
        "\n",
        "If we had a function `f([a, b]) = a` that we wish to approximate (that is, we want to use machine learning to predict the output of this function, given its input), then we could create make a new function to model `f` as: `model([a, b], w) = a*w_1 + b*w_2` (note this is the same as `model([a, b], w) = [a, b] ⋅ w`, where `w = [w_1, w_2]`).\n",
        "\n",
        "If we trained the model well, we would see that `w -> [1, 0]`, so that `model([a, b], w) -> a*1 + b*0 = a = f([a, b])`.\n",
        "\n",
        "*Note: It is advised to also add a bias unit to the model. This can be added by appending a `1` to the input vector`\n",
        "\n",
        "We will be using a linear activation today, so this is our final model, but in more complex models they will use a function to confine all outputs to a certain range (usually `[0,1]` or `[-1,1]`)"
      ]
    },
    {
      "cell_type": "markdown",
      "metadata": {
        "id": "ql4x6dgWzhl-"
      },
      "source": [
        "Now that we have our model, we need to train it by finding values for `w` that are as close as possible to the function we are trying to approximate: this is where gradient descent comes in. \n",
        "\n",
        "Firstly, we do not know what the function we are trying to approximate actually is. If we did, there would be no reason to use machine learning to find it. What we do have, though, is a load of inputs and corresponding outputs for this function. We can use these to \"train\" our weight values to act like the function we are trying to approximate does on the dataset. This is where a lot of interesting issues with machine learning come in, such as the model being too complex and learning the dataset by heart (overfitting); the model not being complex enough and not being able to simulate the complexity of what it is approimating (underfitting); or the issue with there not being enough data for the model to fully understand the original function. We won't go through these issues in more depth today but I strongly reccomend googling them (*an activity for the interested reader*).\n",
        "\n",
        "Let's begin by defining the \"loss\" of our model for each piece of training data as follows:\n",
        "```\n",
        "y = correct output\n",
        "x = input\n",
        "w = weights\n",
        "loss = (model(x, w) - y)^2 / 2\n",
        "```\n",
        "The overall loss is therefore the sum of the losses of all inputs. (the `/2` is arbirtary, but will make the differentiation nicer later)\n",
        "\n",
        "There are many types of loss functions. This is called the *Sum of squared error* (SSE).\n",
        "\n",
        "We want to find the value for the weights of our function that has the lowest SSE. How do we find the minimum value of a function? *Gradient descent*\n",
        "\n",
        "With the same process as last week:\n",
        "```\n",
        "loss = (model(x, w) - y)^2 / 2 = (x ⋅ w - y)^2 / 2\n",
        "dloss / dw_i = (x ⋅ w - y) * x_i\n",
        "```\n",
        "\n",
        "with learning rate, `a`, we can define the update to the weight vector as:\n",
        "```\n",
        "w_i = w_i - a * (x ⋅ w - y) * x_i\n",
        "```\n",
        "\n",
        "*Note that `(x ⋅ w - y)` evaluates to a scalar if `x` and `w` are vectors (if there are multiple outputs, this may not be the case*\n",
        "\n",
        "Becasue we are using numpy we will be able to do this for all datapoints at once\n",
        "\n",
        "We can then repeat this process a bunch of times to get to the minimum value of the loss function for each element in out weight vector."
      ]
    },
    {
      "cell_type": "markdown",
      "metadata": {
        "id": "VX3llssn6Tx0"
      },
      "source": [
        "# Adaline implementation"
      ]
    },
    {
      "cell_type": "code",
      "metadata": {
        "id": "SRAK_a77_p-M"
      },
      "source": [
        "import numpy as np\n",
        "from sklearn import datasets\n",
        "import matplotlib.pyplot as plt\n",
        "import pandas as pd\n",
        "from sklearn.utils import shuffle"
      ],
      "execution_count": null,
      "outputs": []
    },
    {
      "cell_type": "code",
      "metadata": {
        "id": "D1x2A-Ul6TTC"
      },
      "source": [
        "class Adaline:\n",
        "\n",
        "  def __init__(self, x_shape):\n",
        "    self.w = np.zeros((x_shape + 1,))\n",
        "    self.threshold = 0.5\n",
        "\n",
        "  def train(self, x, y, epochs=100, a=0.0001):\n",
        "    x = np.concatenate((x, np.ones((x.shape[0],1))), axis=1)  # add bias\n",
        "    self.losses = []\n",
        "    for __ in range(epochs):\n",
        "      errors = np.dot(x, self.w) - y\n",
        "      self.w -= a * x.T.dot(errors)  # w = w - a * (x ⋅ w - y) * x\n",
        "      loss = (errors**2).sum() / 2\n",
        "      self.losses.append(loss)\n",
        "    return self.losses\n",
        "\n",
        "  def predict_prob(self, x):  # x is a vector of inputs\n",
        "    x = np.concatenate((x, np.ones((x.shape[0],1))), axis=1)\n",
        "    return np.dot(x, self.w)\n",
        "\n",
        "  def predict(self, x):  # x is a vector of inputs\n",
        "    return np.asarray([int(i>self.threshold) for i in self.predict_prob(x)])  # output won't be boolean so apply threshold"
      ],
      "execution_count": null,
      "outputs": []
    },
    {
      "cell_type": "code",
      "metadata": {
        "id": "MZNrlukg_sLN",
        "outputId": "3f08d03c-360e-4581-852d-da0114f38fe8",
        "colab": {
          "base_uri": "https://localhost:8080/",
          "height": 34
        }
      },
      "source": [
        "iris = datasets.load_iris()\n",
        "x = iris.data[:100]\n",
        "y = iris.target[:100]\n",
        "x.shape"
      ],
      "execution_count": null,
      "outputs": [
        {
          "output_type": "execute_result",
          "data": {
            "text/plain": [
              "(100, 4)"
            ]
          },
          "metadata": {
            "tags": []
          },
          "execution_count": 92
        }
      ]
    },
    {
      "cell_type": "code",
      "metadata": {
        "id": "dnBGG2o2HzvT",
        "outputId": "69512583-0e8e-4cad-c367-64fe81a92541",
        "colab": {
          "base_uri": "https://localhost:8080/",
          "height": 102
        }
      },
      "source": [
        "y"
      ],
      "execution_count": null,
      "outputs": [
        {
          "output_type": "execute_result",
          "data": {
            "text/plain": [
              "array([0, 0, 0, 0, 0, 0, 0, 0, 0, 0, 0, 0, 0, 0, 0, 0, 0, 0, 0, 0, 0, 0,\n",
              "       0, 0, 0, 0, 0, 0, 0, 0, 0, 0, 0, 0, 0, 0, 0, 0, 0, 0, 0, 0, 0, 0,\n",
              "       0, 0, 0, 0, 0, 0, 1, 1, 1, 1, 1, 1, 1, 1, 1, 1, 1, 1, 1, 1, 1, 1,\n",
              "       1, 1, 1, 1, 1, 1, 1, 1, 1, 1, 1, 1, 1, 1, 1, 1, 1, 1, 1, 1, 1, 1,\n",
              "       1, 1, 1, 1, 1, 1, 1, 1, 1, 1, 1, 1])"
            ]
          },
          "metadata": {
            "tags": []
          },
          "execution_count": 93
        }
      ]
    },
    {
      "cell_type": "code",
      "metadata": {
        "id": "3Mq-TMG_HGGR",
        "outputId": "221e1fff-da12-4216-9807-77283c1d3c36",
        "colab": {
          "base_uri": "https://localhost:8080/",
          "height": 248
        }
      },
      "source": [
        "fig = plt.figure()\n",
        "ax = fig.add_subplot(111, projection='3d')\n",
        "\n",
        "ax.scatter(x[:50][:,0], x[:50][:,1], x[:50][:,2], color=\"red\", label=\"Iris Setosa\")\n",
        "ax.scatter(x[50:][:,0], x[50:][:,1], x[50:][:,2], color=\"blue\", label=\"Iris Versicolour\")\n",
        "\n",
        "ax.set_xlabel(\"sepal length (cm)\")\n",
        "ax.set_ylabel(\"sepal width (cm)\")\n",
        "ax.set_zlabel(\"petal length (cm)\")\n",
        "\n",
        "plt.show()"
      ],
      "execution_count": null,
      "outputs": [
        {
          "output_type": "display_data",
          "data": {
            "image/png": "[encoded data removed]",
            "text/plain": [
              "<Figure size 432x288 with 1 Axes>"
            ]
          },
          "metadata": {
            "tags": [],
            "needs_background": "light"
          }
        }
      ]
    },
    {
      "cell_type": "code",
      "metadata": {
        "id": "96tpXiHMAAfL"
      },
      "source": [
        "model = Adaline(4)"
      ],
      "execution_count": null,
      "outputs": []
    },
    {
      "cell_type": "code",
      "metadata": {
        "id": "uhBY-NXQAN3W",
        "outputId": "8fe3567e-f7ae-47f7-c2ef-bda323f02fef",
        "colab": {
          "base_uri": "https://localhost:8080/",
          "height": 102
        }
      },
      "source": [
        "model.predict(x)  # untrained -> rubbish"
      ],
      "execution_count": null,
      "outputs": [
        {
          "output_type": "execute_result",
          "data": {
            "text/plain": [
              "array([0, 0, 0, 0, 0, 0, 0, 0, 0, 0, 0, 0, 0, 0, 0, 0, 0, 0, 0, 0, 0, 0,\n",
              "       0, 0, 0, 0, 0, 0, 0, 0, 0, 0, 0, 0, 0, 0, 0, 0, 0, 0, 0, 0, 0, 0,\n",
              "       0, 0, 0, 0, 0, 0, 0, 0, 0, 0, 0, 0, 0, 0, 0, 0, 0, 0, 0, 0, 0, 0,\n",
              "       0, 0, 0, 0, 0, 0, 0, 0, 0, 0, 0, 0, 0, 0, 0, 0, 0, 0, 0, 0, 0, 0,\n",
              "       0, 0, 0, 0, 0, 0, 0, 0, 0, 0, 0, 0])"
            ]
          },
          "metadata": {
            "tags": []
          },
          "execution_count": 96
        }
      ]
    },
    {
      "cell_type": "code",
      "metadata": {
        "id": "kgZ9YBjYAPi8",
        "outputId": "81ff43fa-2aef-496a-ca29-d60488452c39",
        "colab": {
          "base_uri": "https://localhost:8080/",
          "height": 282
        }
      },
      "source": [
        "plt.plot(model.train(x, y, epochs=100))"
      ],
      "execution_count": null,
      "outputs": [
        {
          "output_type": "execute_result",
          "data": {
            "text/plain": [
              "[<matplotlib.lines.Line2D at 0x7ff1d7ce75c0>]"
            ]
          },
          "metadata": {
            "tags": []
          },
          "execution_count": 97
        },
        {
          "output_type": "display_data",
          "data": {
            "image/png": "[encoded data removed]",
            "text/plain": [
              "<Figure size 432x288 with 1 Axes>"
            ]
          },
          "metadata": {
            "tags": [],
            "needs_background": "light"
          }
        }
      ]
    },
    {
      "cell_type": "code",
      "metadata": {
        "id": "-KK2ERstBoZm",
        "outputId": "c676c34b-e098-44e8-f940-0cb02b4f55f8",
        "colab": {
          "base_uri": "https://localhost:8080/",
          "height": 102
        }
      },
      "source": [
        "model.predict(x)"
      ],
      "execution_count": null,
      "outputs": [
        {
          "output_type": "execute_result",
          "data": {
            "text/plain": [
              "array([0, 0, 0, 0, 0, 0, 0, 0, 0, 0, 0, 0, 0, 0, 0, 0, 0, 0, 0, 0, 0, 0,\n",
              "       0, 0, 0, 0, 0, 0, 0, 0, 0, 0, 0, 0, 0, 0, 0, 0, 0, 0, 0, 0, 0, 0,\n",
              "       0, 0, 0, 0, 0, 0, 1, 1, 1, 1, 1, 1, 1, 1, 1, 1, 1, 1, 1, 1, 1, 1,\n",
              "       1, 1, 1, 1, 1, 1, 1, 1, 1, 1, 1, 1, 1, 1, 1, 1, 1, 1, 1, 1, 1, 1,\n",
              "       1, 1, 1, 1, 1, 1, 1, 1, 1, 1, 1, 1])"
            ]
          },
          "metadata": {
            "tags": []
          },
          "execution_count": 98
        }
      ]
    },
    {
      "cell_type": "code",
      "metadata": {
        "id": "YR6KL68YB1M7",
        "outputId": "5b8a404a-58a9-4630-b7f5-93ecb144586d",
        "colab": {
          "base_uri": "https://localhost:8080/",
          "height": 102
        }
      },
      "source": [
        "y"
      ],
      "execution_count": null,
      "outputs": [
        {
          "output_type": "execute_result",
          "data": {
            "text/plain": [
              "array([0, 0, 0, 0, 0, 0, 0, 0, 0, 0, 0, 0, 0, 0, 0, 0, 0, 0, 0, 0, 0, 0,\n",
              "       0, 0, 0, 0, 0, 0, 0, 0, 0, 0, 0, 0, 0, 0, 0, 0, 0, 0, 0, 0, 0, 0,\n",
              "       0, 0, 0, 0, 0, 0, 1, 1, 1, 1, 1, 1, 1, 1, 1, 1, 1, 1, 1, 1, 1, 1,\n",
              "       1, 1, 1, 1, 1, 1, 1, 1, 1, 1, 1, 1, 1, 1, 1, 1, 1, 1, 1, 1, 1, 1,\n",
              "       1, 1, 1, 1, 1, 1, 1, 1, 1, 1, 1, 1])"
            ]
          },
          "metadata": {
            "tags": []
          },
          "execution_count": 99
        }
      ]
    },
    {
      "cell_type": "code",
      "metadata": {
        "id": "UqagsB1lB1l0",
        "outputId": "d1b047e8-f508-48df-ad04-020997a40835",
        "colab": {
          "base_uri": "https://localhost:8080/",
          "height": 221
        }
      },
      "source": [
        "np.round(model.predict_prob(x), 2)"
      ],
      "execution_count": null,
      "outputs": [
        {
          "output_type": "execute_result",
          "data": {
            "text/plain": [
              "array([ 0.06,  0.11,  0.06,  0.12,  0.05,  0.11,  0.07,  0.09,  0.11,\n",
              "        0.11,  0.07,  0.11,  0.1 ,  0.02, -0.03,  0.02,  0.02,  0.07,\n",
              "        0.12,  0.06,  0.15,  0.08, -0.05,  0.18,  0.18,  0.16,  0.13,\n",
              "        0.09,  0.07,  0.13,  0.14,  0.12,  0.01, -0.01,  0.12,  0.04,\n",
              "        0.04,  0.04,  0.08,  0.09,  0.04,  0.16,  0.06,  0.14,  0.16,\n",
              "        0.12,  0.07,  0.08,  0.07,  0.08,  1.01,  0.96,  1.08,  0.91,\n",
              "        1.03,  0.97,  1.01,  0.69,  1.  ,  0.84,  0.78,  0.9 ,  0.9 ,\n",
              "        1.03,  0.75,  0.95,  0.97,  0.86,  1.06,  0.84,  1.05,  0.86,\n",
              "        1.13,  1.02,  0.93,  0.95,  1.07,  1.12,  0.99,  0.73,  0.83,\n",
              "        0.8 ,  0.84,  1.16,  0.97,  0.94,  1.03,  1.01,  0.86,  0.88,\n",
              "        0.96,  0.99,  0.87,  0.7 ,  0.91,  0.87,  0.89,  0.92,  0.62,\n",
              "        0.88])"
            ]
          },
          "metadata": {
            "tags": []
          },
          "execution_count": 100
        }
      ]
    },
    {
      "cell_type": "markdown",
      "metadata": {
        "id": "YwZCpjUAoKE_"
      },
      "source": [
        "more info: https://colab.research.google.com/drive/1erep4I-6bOARjyFphpdISF_S6wkP5UCL#scrollTo=AJTRYHyWb08m\n",
        "\n",
        "**REMEMBER TO ASK ABOUT COM SOC NEXT WEEK**"
      ]
    },
    {
      "cell_type": "code",
      "metadata": {
        "id": "jqRabheiBdnY"
      },
      "source": [
        ""
      ],
      "execution_count": null,
      "outputs": []
    }
  ]
}