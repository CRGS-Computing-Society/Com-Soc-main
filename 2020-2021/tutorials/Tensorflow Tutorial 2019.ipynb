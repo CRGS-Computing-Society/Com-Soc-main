{
  "nbformat": 4,
  "nbformat_minor": 0,
  "metadata": {
    "colab": {
      "name": "computing society tutorial notebook.ipynb",
      "provenance": []
    },
    "kernelspec": {
      "name": "python3",
      "display_name": "Python 3"
    }
  },
  "cells": [
    {
      "cell_type": "code",
      "metadata": {
        "id": "VfwAKbiF7Crj",
        "colab_type": "code",
        "outputId": "3a22826a-0554-48b6-902d-c24d2035a000",
        "colab": {
          "base_uri": "https://localhost:8080/",
          "height": 34
        }
      },
      "source":
        "import keras  # this was coded live in Com Soc\n",
        "from keras.datasets import mnist\n",
        "from keras.datasets import cifar10\n",
        "import numpy as np\n",
        "import matplotlib.pyplot as plt"
      ],
      "execution_count": 0,
      "outputs": [
        {
          "output_type": "stream",
          "text": [
            "Using TensorFlow backend.\n"
          ],
          "name": "stderr"
        }
      ]
    },
    {
      "cell_type": "code",
      "metadata": {
        "id": "hUA-Bhp--AJW",
        "colab_type": "code",
        "colab": {}
      },
      "source": [
        "def display(images, number, rows):\n",
        "  n = number\n",
        "  plt.figure(figsize=(20, 4))\n",
        "  for i in range(n):\n",
        "      ax = plt.subplot(2, n/rows, i + 1)\n",
        "      plt.imshow(images[i].reshape(28, 28))\n",
        "      plt.gray()\n",
        "      ax.get_xaxis().set_visible(False)\n",
        "      ax.get_yaxis().set_visible(False)"
      ],
      "execution_count": 0,
      "outputs": []
    },
    {
      "cell_type": "code",
      "metadata": {
        "id": "J8HTgiQW_oyh",
        "colab_type": "code",
        "outputId": "71b02834-c85b-45e2-a5f2-f1aaededc083",
        "colab": {
          "base_uri": "https://localhost:8080/",
          "height": 182
        }
      },
      "source": [
        "## loading MNIST\n",
        "(x_train, y_train), (x_test, y_test) = mnist.load_data()\n",
        "\n",
        "## resizing images\n",
        "x_train = x_train.astype('float32') / 255.\n",
        "x_test = x_test.astype('float32') / 255.\n",
        "x_train = x_train.reshape((len(x_train), np.prod(x_train.shape[1:])))\n",
        "x_test = x_test.reshape((len(x_test), np.prod(x_test.shape[1:])))\n",
        "\n",
        "## OHE\n",
        "y_train = keras.utils.to_categorical(y_train, num_classes=10)\n",
        "y_test = keras.utils.to_categorical(y_test, num_classes=10)\n",
        "\n",
        "display(x_train, 10, 1)\n",
        "print([np.argmax(i) for i in y_train[:10]])"
      ],
      "execution_count": 0,
      "outputs": [
        {
          "output_type": "stream",
          "text": [
            "Downloading data from https://s3.amazonaws.com/img-datasets/mnist.npz\n",
            "11493376/11490434 [==============================] - 2s 0us/step\n",
            "[5, 0, 4, 1, 9, 2, 1, 3, 1, 4]\n"
          ],
          "name": "stdout"
        },
        {
          "output_type": "display_data",
          "data": {
            "image/png": "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\n",
            "text/plain": [
              "<Figure size 1440x288 with 10 Axes>"
            ]
          },
          "metadata": {
            "tags": [],
            "needs_background": "light"
          }
        }
      ]
    },
    {
      "cell_type": "code",
      "metadata": {
        "id": "kZdK34G0_s0q",
        "colab_type": "code",
        "outputId": "344562b1-eb58-40be-ddc2-4827049f3adc",
        "colab": {
          "base_uri": "https://localhost:8080/",
          "height": 52
        }
      },
      "source": [
        "shape_in = x_train[0].shape\n",
        "shape_out = y_train[0].shape[0]\n",
        "\n",
        "print(shape_in)\n",
        "print(shape_out)"
      ],
      "execution_count": 0,
      "outputs": [
        {
          "output_type": "stream",
          "text": [
            "(784,)\n",
            "10\n"
          ],
          "name": "stdout"
        }
      ]
    },
    {
      "cell_type": "code",
      "metadata": {
        "id": "EbTV_lm-AJkd",
        "colab_type": "code",
        "colab": {}
      },
      "source": [
        "from keras.layers import Input, Dense\n",
        "from keras.models import Model\n",
        "\n",
        "input_image = Input(shape=(shape_in))\n",
        "layer_1 = Dense(1024, activation='relu')(input_image)\n",
        "layer_2 = Dense(1024, activation='relu')(layer_1)\n",
        "output = Dense(shape_out, activation='sigmoid')(layer_2)\n",
        "\n",
        "classifier = Model(input_image, output)\n",
        "\n",
        "classifier.compile(loss='mean_squared_error', optimizer='sgd')"
      ],
      "execution_count": 0,
      "outputs": []
    },
    {
      "cell_type": "code",
      "metadata": {
        "id": "r7-SiZZUATm-",
        "colab_type": "code",
        "outputId": "7a187695-4284-418c-ac43-195e4bcbf7a6",
        "colab": {
          "base_uri": "https://localhost:8080/",
          "height": 404
        }
      },
      "source": [
        "classifier.fit(x_train, y_train,\n",
        "                epochs=10,\n",
        "                batch_size=256,\n",
        "                shuffle=True,\n",
        "                validation_data=(x_test, y_test))"
      ],
      "execution_count": 0,
      "outputs": [
        {
          "output_type": "stream",
          "text": [
            "Train on 60000 samples, validate on 10000 samples\n",
            "Epoch 1/10\n",
            "60000/60000 [==============================] - 15s 243us/step - loss: 0.0877 - val_loss: 0.0867\n",
            "Epoch 2/10\n",
            "60000/60000 [==============================] - 15s 243us/step - loss: 0.0860 - val_loss: 0.0851\n",
            "Epoch 3/10\n",
            "60000/60000 [==============================] - 15s 244us/step - loss: 0.0843 - val_loss: 0.0833\n",
            "Epoch 4/10\n",
            "60000/60000 [==============================] - 15s 243us/step - loss: 0.0825 - val_loss: 0.0814\n",
            "Epoch 5/10\n",
            "60000/60000 [==============================] - 15s 242us/step - loss: 0.0806 - val_loss: 0.0793\n",
            "Epoch 6/10\n",
            "60000/60000 [==============================] - 15s 246us/step - loss: 0.0785 - val_loss: 0.0772\n",
            "Epoch 7/10\n",
            "60000/60000 [==============================] - 15s 244us/step - loss: 0.0764 - val_loss: 0.0751\n",
            "Epoch 8/10\n",
            "60000/60000 [==============================] - 15s 245us/step - loss: 0.0742 - val_loss: 0.0729\n",
            "Epoch 9/10\n",
            "60000/60000 [==============================] - 15s 245us/step - loss: 0.0721 - val_loss: 0.0707\n",
            "Epoch 10/10\n",
            "60000/60000 [==============================] - 15s 245us/step - loss: 0.0700 - val_loss: 0.0686\n"
          ],
          "name": "stdout"
        },
        {
          "output_type": "execute_result",
          "data": {
            "text/plain": [
              "<keras.callbacks.callbacks.History at 0x7fe205baffd0>"
            ]
          },
          "metadata": {
            "tags": []
          },
          "execution_count": 7
        }
      ]
    },
    {
      "cell_type": "code",
      "metadata": {
        "id": "EgQ4-9brAYtH",
        "colab_type": "code",
        "outputId": "473d2922-958a-4320-f5c8-a6dce7c95d2a",
        "colab": {
          "base_uri": "https://localhost:8080/",
          "height": 283
        }
      },
      "source": [
        "display(x_train, 20, 2)\n",
        "print([np.argmax(i) for i in y_train[:20]])\n",
        "\n",
        "preds = classifier.predict(x_train)\n",
        "preds = [np.argmax(i) for i in preds][:20]\n",
        "print(preds)"
      ],
      "execution_count": 0,
      "outputs": [
        {
          "output_type": "stream",
          "text": [
            "[5, 0, 4, 1, 9, 2, 1, 3, 1, 4, 3, 5, 3, 6, 1, 7, 2, 8, 6, 9]\n",
            "[3, 0, 4, 1, 9, 2, 1, 3, 1, 4, 3, 1, 3, 6, 1, 7, 2, 1, 6, 1]\n"
          ],
          "name": "stdout"
        },
        {
          "output_type": "display_data",
          "data": {
            "image/png": "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\n",
            "text/plain": [
              "<Figure size 1440x288 with 20 Axes>"
            ]
          },
          "metadata": {
            "tags": [],
            "needs_background": "light"
          }
        }
      ]
    },
    {
      "cell_type": "code",
      "metadata": {
        "id": "zZSLUVRAA9OX",
        "colab_type": "code",
        "colab": {}
      },
      "source": [
        ""
      ],
      "execution_count": 0,
      "outputs": []
    }
  ]
}
