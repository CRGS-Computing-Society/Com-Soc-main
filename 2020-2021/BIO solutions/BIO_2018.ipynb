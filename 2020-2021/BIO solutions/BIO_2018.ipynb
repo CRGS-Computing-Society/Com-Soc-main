{
  "nbformat": 4,
  "nbformat_minor": 0,
  "metadata": {
    "colab": {
      "name": "BIO 2018.ipynb",
      "provenance": []
    },
    "kernelspec": {
      "name": "python3",
      "display_name": "Python 3"
    }
  },
  "cells": [
    {
      "cell_type": "code",
      "metadata": {
        "id": "L9MRoQhHmXYE"
      },
      "source": [
        "def get_interest(interest, repayment):  # interest: 0.1 -> 10%\n",
        "  debt, total_repaid = 100, 0\n",
        "  repayment, interest = repayment/100, interest/100\n",
        "\n",
        "  while debt > 0:\n",
        "    debt *= interest + 1\n",
        "    debt = round(debt, 2)\n",
        "    temp = repayment * debt\n",
        "    debt -= round(max(50, temp), 2)\n",
        "\n",
        "    total_repaid += round(max(50, temp), 2)\n",
        "\n",
        "  if debt < 0:\n",
        "    total_repaid += debt\n",
        "\n",
        "  return round(total_repaid, 2)"
      ],
      "execution_count": null,
      "outputs": []
    },
    {
      "cell_type": "code",
      "metadata": {
        "id": "lzxYNXbRn6Af",
        "outputId": "2f26d265-dfe0-4da0-e048-10e356f218a6",
        "colab": {
          "base_uri": "https://localhost:8080/"
        }
      },
      "source": [
        "get_interest(49, 0)"
      ],
      "execution_count": null,
      "outputs": [
        {
          "output_type": "execute_result",
          "data": {
            "text/plain": [
              "491.93"
            ]
          },
          "metadata": {
            "tags": []
          },
          "execution_count": 36
        }
      ]
    },
    {
      "cell_type": "code",
      "metadata": {
        "id": "ibePF-JSpW49"
      },
      "source": [
        ""
      ],
      "execution_count": null,
      "outputs": []
    }
  ]
}