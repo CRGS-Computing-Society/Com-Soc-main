{
  "nbformat": 4,
  "nbformat_minor": 0,
  "metadata": {
    "colab": {
      "name": "haiku.ipynb",
      "provenance": [],
      "collapsed_sections": []
    },
    "kernelspec": {
      "name": "python3",
      "display_name": "Python 3"
    }
  },
  "cells": [
    {
      "cell_type": "code",
      "metadata": {
        "id": "c9_eAHA3445Y",
        "colab_type": "code",
        "colab": {
          "base_uri": "https://localhost:8080/",
          "height": 496
        },
        "outputId": "1780a40f-eca4-43f1-f29f-ca4114e6e121"
      },
      "source": [
        "pip install discord.py"
      ],
      "execution_count": 1,
      "outputs": [
        {
          "output_type": "stream",
          "text": [
            "Collecting discord.py\n",
            "\u001b[?25l  Downloading https://files.pythonhosted.org/packages/19/69/85b43ab22d9deb62340b1ae1f94228453a212bf9bb44fc0a0a9120241d91/discord.py-1.4.1-py3-none-any.whl (692kB)\n",
            "\u001b[K     |████████████████████████████████| 696kB 2.8MB/s \n",
            "\u001b[?25hCollecting aiohttp<3.7.0,>=3.6.0\n",
            "\u001b[?25l  Downloading https://files.pythonhosted.org/packages/7c/39/7eb5f98d24904e0f6d3edb505d4aa60e3ef83c0a58d6fe18244a51757247/aiohttp-3.6.2-cp36-cp36m-manylinux1_x86_64.whl (1.2MB)\n",
            "\u001b[K     |████████████████████████████████| 1.2MB 58.9MB/s \n",
            "\u001b[?25hCollecting multidict<5.0,>=4.5\n",
            "\u001b[?25l  Downloading https://files.pythonhosted.org/packages/1a/95/f50352b5366e7d579e8b99631680a9e32e1b22adfa1629a8f23b1d22d5e2/multidict-4.7.6-cp36-cp36m-manylinux1_x86_64.whl (148kB)\n",
            "\u001b[K     |████████████████████████████████| 153kB 54.6MB/s \n",
            "\u001b[?25hCollecting async-timeout<4.0,>=3.0\n",
            "  Downloading https://files.pythonhosted.org/packages/e1/1e/5a4441be21b0726c4464f3f23c8b19628372f606755a9d2e46c187e65ec4/async_timeout-3.0.1-py3-none-any.whl\n",
            "Requirement already satisfied: chardet<4.0,>=2.0 in /usr/local/lib/python3.6/dist-packages (from aiohttp<3.7.0,>=3.6.0->discord.py) (3.0.4)\n",
            "Requirement already satisfied: attrs>=17.3.0 in /usr/local/lib/python3.6/dist-packages (from aiohttp<3.7.0,>=3.6.0->discord.py) (20.1.0)\n",
            "Collecting yarl<2.0,>=1.0\n",
            "\u001b[?25l  Downloading https://files.pythonhosted.org/packages/a0/b4/2cbeaf2c3ea53865d9613b315fe24e78c66acedb1df7e4be4e064c87203b/yarl-1.5.1-cp36-cp36m-manylinux1_x86_64.whl (257kB)\n",
            "\u001b[K     |████████████████████████████████| 266kB 40.5MB/s \n",
            "\u001b[?25hRequirement already satisfied: typing-extensions>=3.6.5; python_version < \"3.7\" in /usr/local/lib/python3.6/dist-packages (from aiohttp<3.7.0,>=3.6.0->discord.py) (3.7.4.3)\n",
            "Collecting idna-ssl>=1.0; python_version < \"3.7\"\n",
            "  Downloading https://files.pythonhosted.org/packages/46/03/07c4894aae38b0de52b52586b24bf189bb83e4ddabfe2e2c8f2419eec6f4/idna-ssl-1.1.0.tar.gz\n",
            "Requirement already satisfied: idna>=2.0 in /usr/local/lib/python3.6/dist-packages (from yarl<2.0,>=1.0->aiohttp<3.7.0,>=3.6.0->discord.py) (2.10)\n",
            "Building wheels for collected packages: idna-ssl\n",
            "  Building wheel for idna-ssl (setup.py) ... \u001b[?25l\u001b[?25hdone\n",
            "  Created wheel for idna-ssl: filename=idna_ssl-1.1.0-cp36-none-any.whl size=3161 sha256=a3a7270c9237200835bf3d8b4602b95e09ead834bb26367d611c84928b483fde\n",
            "  Stored in directory: /root/.cache/pip/wheels/d3/00/b3/32d613e19e08a739751dd6bf998cfed277728f8b2127ad4eb7\n",
            "Successfully built idna-ssl\n",
            "Installing collected packages: multidict, async-timeout, yarl, idna-ssl, aiohttp, discord.py\n",
            "Successfully installed aiohttp-3.6.2 async-timeout-3.0.1 discord.py-1.4.1 idna-ssl-1.1.0 multidict-4.7.6 yarl-1.5.1\n"
          ],
          "name": "stdout"
        }
      ]
    },
    {
      "cell_type": "code",
      "metadata": {
        "id": "zePWmBYB45kt",
        "colab_type": "code",
        "colab": {
          "base_uri": "https://localhost:8080/",
          "height": 85
        },
        "outputId": "1ec16e4c-07c7-4509-cd6f-73bf534d3315"
      },
      "source": [
        "pip install nest_asyncio"
      ],
      "execution_count": 2,
      "outputs": [
        {
          "output_type": "stream",
          "text": [
            "Collecting nest_asyncio\n",
            "  Downloading https://files.pythonhosted.org/packages/a0/44/f2983c5be9803b08f89380229997e92c4bdd7a4a510ccee565b599d1bdc8/nest_asyncio-1.4.0-py3-none-any.whl\n",
            "Installing collected packages: nest-asyncio\n",
            "Successfully installed nest-asyncio-1.4.0\n"
          ],
          "name": "stdout"
        }
      ]
    },
    {
      "cell_type": "code",
      "metadata": {
        "id": "Erb_afyh5JQk",
        "colab_type": "code",
        "colab": {
          "base_uri": "https://localhost:8080/",
          "height": 85
        },
        "outputId": "502699ce-e780-4762-8edf-2b7cb55e0852"
      },
      "source": [
        "pip install syllables"
      ],
      "execution_count": 3,
      "outputs": [
        {
          "output_type": "stream",
          "text": [
            "Collecting syllables\n",
            "  Downloading https://files.pythonhosted.org/packages/16/d9/81a31f640ccf405fdfd0eae8eebfc2579b438804dbf34dc03cad3e76169a/syllables-0.1.0-py2.py3-none-any.whl\n",
            "Installing collected packages: syllables\n",
            "Successfully installed syllables-0.1.0\n"
          ],
          "name": "stdout"
        }
      ]
    },
    {
      "cell_type": "code",
      "metadata": {
        "id": "MAfxkECZ49Ns",
        "colab_type": "code",
        "colab": {}
      },
      "source": [
        "import nest_asyncio\n",
        "nest_asyncio.apply()"
      ],
      "execution_count": 4,
      "outputs": []
    },
    {
      "cell_type": "code",
      "metadata": {
        "id": "p1kcSNiaC33j",
        "colab_type": "code",
        "colab": {}
      },
      "source": [
        "import discord\n",
        "import syllables\n",
        "import string"
      ],
      "execution_count": 5,
      "outputs": []
    },
    {
      "cell_type": "code",
      "metadata": {
        "id": "9R6bfQ0E49xR",
        "colab_type": "code",
        "colab": {}
      },
      "source": [
        "class haiku(discord.Client):\n",
        "\n",
        "  async def on_message(self, message):\n",
        "\n",
        "    if message.content.lower() in [\"who is matsuo basho\", \"who's matsuo basho\", \"what is matsuo basho\", \"what's matsuo basho\"]:\n",
        "      await message.channel.send(\"¯\\_(ツ)_/¯\")\n",
        "    else:\n",
        "      msg = \"\".join([i for i in message.content.lower() if i in [*string.ascii_lowercase, \" \", \"\\n\"]]).replace(\"\\n\", \" \")\n",
        "      message_words = msg.lower().split(\" \")\n",
        "      syllables_needed = [5, 5+7, 5+7+5]\n",
        "\n",
        "      total_syllables = 0\n",
        "      sentence = \"\"\n",
        "      for word in message_words:\n",
        "        sentence += word + \" \"\n",
        "        if word != \"\" and word != \" \":\n",
        "          total_syllables += syllables.estimate(word)\n",
        "        print(sentence, total_syllables)  # remove\n",
        "        for i in range(len(syllables_needed)):\n",
        "          if syllables_needed[i] == total_syllables:\n",
        "            syllables_needed[i] = sentence\n",
        "      if not any([i in syllables_needed for i in [5, 5+7, 5+7+5]]) and total_syllables == 17:\n",
        "        await message.channel.send(\"**That's a Haiku!**\\n\" + syllables_needed[0] + \"\\n\" + syllables_needed[1][len(syllables_needed[0]):] + \"\\n\" + syllables_needed[2][len(syllables_needed[1]):])\n",
        "\n",
        "    \n",
        "\n",
        "client = haiku()\n",
        "client.run(\"NzQ1Mjk1NTgwODc5OTEzMDcz.XzvsmQ.RxGTbhGGkeAg4WJFA111OzbO2R8\")"
      ],
      "execution_count": null,
      "outputs": []
    },
    {
      "cell_type": "code",
      "metadata": {
        "id": "1qK73SMoKMiA",
        "colab_type": "code",
        "colab": {}
      },
      "source": [
        ""
      ],
      "execution_count": 5,
      "outputs": []
    }
  ]
}