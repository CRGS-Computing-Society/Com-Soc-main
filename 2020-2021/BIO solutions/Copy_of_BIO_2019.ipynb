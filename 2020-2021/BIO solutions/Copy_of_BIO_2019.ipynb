{
  "nbformat": 4,
  "nbformat_minor": 0,
  "metadata": {
    "colab": {
      "name": "Copy of BIO_2019.ipynb",
      "provenance": [],
      "collapsed_sections": []
    },
    "kernelspec": {
      "name": "python3",
      "display_name": "Python 3"
    }
  },
  "cells": [
    {
      "cell_type": "markdown",
      "metadata": {
        "id": "LC_Ylkcz8UM8"
      },
      "source": [
        "# 1"
      ]
    },
    {
      "cell_type": "markdown",
      "metadata": {
        "id": "8JjiJws18Vxh"
      },
      "source": [
        "## a"
      ]
    },
    {
      "cell_type": "code",
      "metadata": {
        "id": "_qhX1yjl7AaL"
      },
      "source": [
        "from math import floor"
      ],
      "execution_count": null,
      "outputs": []
    },
    {
      "cell_type": "code",
      "metadata": {
        "id": "zXdJVKCR69IQ"
      },
      "source": [
        "def next_palindrome(number):\n",
        "  number_string = str(number)\n",
        "  centre = floor(len(number_string)/2)\n",
        "\n",
        "  if str(number_string).replace(\"9\", \"\") == \"\":\n",
        "    return int(\"1\" + \"\".join([\"0\" for i in range(len(number_string)-1)]) + \"1\")\n",
        "\n",
        "  if len(number_string) % 2 == 1:\n",
        "\n",
        "    start = number_string[:centre+1]\n",
        "    end = number_string[centre:]\n",
        "    if int(start[::-1]) < int(end): \n",
        "      start = str(int(start) + 1)\n",
        "    \n",
        "    return int(start + start[-2::-1])\n",
        "\n",
        "  start = number_string[:centre]\n",
        "  start = str(int(start) + 1)\n",
        "\n",
        "  return int(start + start[::-1])"
      ],
      "execution_count": null,
      "outputs": []
    },
    {
      "cell_type": "code",
      "metadata": {
        "id": "jr9e0e0v69nr",
        "colab": {
          "base_uri": "https://localhost:8080/"
        },
        "outputId": "23866c11-7358-4be7-babf-2fea4e4ef3eb"
      },
      "source": [
        "next_palindrome(123765432)"
      ],
      "execution_count": null,
      "outputs": [
        {
          "output_type": "execute_result",
          "data": {
            "text/plain": [
              "123767321"
            ]
          },
          "metadata": {
            "tags": []
          },
          "execution_count": 10
        }
      ]
    },
    {
      "cell_type": "markdown",
      "metadata": {
        "id": "R6LOAaIY8MAL"
      },
      "source": [
        "## b"
      ]
    },
    {
      "cell_type": "markdown",
      "metadata": {
        "id": "nwFygJpx8e8R"
      },
      "source": [
        "For any palindrome, the next palindrome in the list will be the one that increments the digit closest to the centre by one. Once that digit is at 9, it can no longer be incrimented, so the next one out must be incrimented and it goes back to 0. As we go through plaindromes (starting at 11111111 becasue 0s are annoying) that are 8 digits long, it looks like this:\n",
        "```\n",
        "11111111\n",
        "11122111\n",
        "  ...\n",
        "11199111\n",
        "11200211\n",
        "11211211\n",
        "  ...\n",
        "11999911\n",
        "12000021\n",
        "```\n",
        "With this, we can see that the largest jump will also be the most common jump (with the only places where the jump is not the maximum being where the position of the number being incremented moves out by 1, where the jump is always smaller than the maximum, as the increase can be asymmetrical (we get a 9 one the right side, or middle, so only need to add a maximum of `10^(floor(length/2))`, whereas, the maximum increase will be on the left side of the centre, so will be larger than the maximum above, for palindroms longer than 3 digits):\n",
        "```\n",
        "number:   jump:\n",
        "1221\n",
        "1331       110\n",
        "1441       110\n",
        "1551       110\n",
        "...\n",
        "1881\n",
        "1991       110\n",
        "2002       11\n",
        "```\n",
        "If the above makes little sense, you can work out a few of the transitions such as the one from 1991 to 2002 (notice how the changes to the outer numbers \n",
        "always have a change of 11)"
      ]
    },
    {
      "cell_type": "markdown",
      "metadata": {
        "id": "_royC4JF8_Yk"
      },
      "source": [
        "This means that all we need to do to find the answer is to pick one of the cases that are not one of these special cases and find the difference:\n",
        "```\n",
        "11111111122111111111 - 11111111111111111111 = 11000000000\n",
        "```\n",
        "\n",
        "We can verfiy this result with the below code (for 5 length palindromes):"
      ]
    },
    {
      "cell_type": "code",
      "metadata": {
        "id": "GHOse4Qt9W0r"
      },
      "source": [
        "palindromic_numbers = sorted([int(str(i)+str(j)+str(k)+str(j)+str(i)) for k in range(10) for j in range(10) for i in range(1, 10)])"
      ],
      "execution_count": null,
      "outputs": []
    },
    {
      "cell_type": "code",
      "metadata": {
        "id": "lbIf4aXG9FLu",
        "colab": {
          "base_uri": "https://localhost:8080/"
        },
        "outputId": "4f5cf442-cc6e-4d42-f1cc-2c2e0f86377f"
      },
      "source": [
        "diff = 0\n",
        "\n",
        "for i in range(len(palindromic_numbers) - 1):\n",
        "  diff = max(diff, palindromic_numbers[i+1] - palindromic_numbers[i])\n",
        "\n",
        "print(diff)"
      ],
      "execution_count": null,
      "outputs": [
        {
          "output_type": "stream",
          "text": [
            "110\n"
          ],
          "name": "stdout"
        }
      ]
    },
    {
      "cell_type": "markdown",
      "metadata": {
        "id": "7He-AU00-4s9"
      },
      "source": [
        "## c"
      ]
    },
    {
      "cell_type": "code",
      "metadata": {
        "id": "XAxi8nc29Fer"
      },
      "source": [
        ""
      ],
      "execution_count": null,
      "outputs": []
    },
    {
      "cell_type": "markdown",
      "metadata": {
        "id": "j47r_xACvECV"
      },
      "source": [
        "##2\r\n",
        "##a\r\n"
      ]
    },
    {
      "cell_type": "code",
      "metadata": {
        "id": "UIo7rzbXvK27"
      },
      "source": [
        "t = input()\r\n",
        "t = t.split(\" \")\r\n",
        "trailNum = int(t[0])\r\n",
        "numMoves = int(t[-1])\r\n",
        "moves = t[1]\r\n",
        "# face is the direction currently being faced\r\n",
        "face = 0\r\n",
        "canMove = True\r\n",
        "# Occupied is an array of coords representing the trail\r\n",
        "occupied = [[0,0]]\r\n",
        "x, y = 0, 0\r\n",
        "count = 0\r\n",
        "def isocc(face,x,y):\r\n",
        "    if face %4 == 0:\r\n",
        "        if [x,y+1] in occupied:\r\n",
        "            canMove = False\r\n",
        "        else:\r\n",
        "             y+=1\r\n",
        "             canMove = True\r\n",
        "    elif face %4 == 1:\r\n",
        "        if [x-1,y] in occupied:\r\n",
        "            canMove = False\r\n",
        "        else:\r\n",
        "            x-=1\r\n",
        "            canMove = True\r\n",
        "    elif face %4 == 2:\r\n",
        "        if [x,y-1] in occupied:\r\n",
        "            canMove = False\r\n",
        "        else:\r\n",
        "            y-=1\r\n",
        "            canMove = True\r\n",
        "    elif face %4 == 3:\r\n",
        "        if [x+1,y] in occupied:\r\n",
        "            canMove = False\r\n",
        "        else:\r\n",
        "             x+=1\r\n",
        "             canMove = True\r\n",
        "    return canMove, x, y\r\n",
        "\r\n",
        "def nextPos(x,y,face, command):\r\n",
        "    canMove = False\r\n",
        "    if command == \"L\":\r\n",
        "        face+=1\r\n",
        "    elif command == \"R\":\r\n",
        "        face-=1\r\n",
        "    for k in range(4):\r\n",
        "        canMove,x,y = isocc(face,x,y)\r\n",
        "        if canMove:\r\n",
        "            break\r\n",
        "        else:\r\n",
        "            face-=1\r\n",
        "    occupied.insert(0, [x,y])\r\n",
        "    if len(occupied)>trailNum:\r\n",
        "        occupied.pop(-1)\r\n",
        "    return canMove,x,y, face\r\n",
        "\r\n",
        "while True:\r\n",
        "    for j in range(len(moves)):\r\n",
        "        if count == numMoves:\r\n",
        "            break\r\n",
        "        canMove,x,y, face = nextPos(x,y,face, moves[j])\r\n",
        "        if not(canMove):\r\n",
        "            break\r\n",
        "        count+=1\r\n",
        "    if not(canMove) or count == numMoves:\r\n",
        "        break\r\n",
        "print(f\"({x}, {y})\")\r\n"
      ],
      "execution_count": null,
      "outputs": []
    }
  ]
}