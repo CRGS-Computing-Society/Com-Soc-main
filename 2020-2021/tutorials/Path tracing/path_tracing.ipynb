{
  "nbformat": 4,
  "nbformat_minor": 0,
  "metadata": {
    "colab": {
      "name": "path tracing.ipynb",
      "provenance": [],
      "collapsed_sections": []
    },
    "kernelspec": {
      "name": "python3",
      "display_name": "Python 3"
    }
  },
  "cells": [
    {
      "cell_type": "code",
      "metadata": {
        "id": "hsC64m-F4BPe"
      },
      "source": [
        "from random import random\r\n",
        "import matplotlib.pyplot as plt"
      ],
      "execution_count": 16,
      "outputs": []
    },
    {
      "cell_type": "code",
      "metadata": {
        "id": "W15RQl3W4m5b"
      },
      "source": [
        "dist = lambda x, y : (x**2 + y**2)**0.5"
      ],
      "execution_count": 9,
      "outputs": []
    },
    {
      "cell_type": "code",
      "metadata": {
        "id": "r-Kb0bTPzC3N"
      },
      "source": [
        "def predict_pi(iterations):\r\n",
        "  inside = outside = 0\r\n",
        "  for i in range(iterations):\r\n",
        "    point = (random(), random())\r\n",
        "    if dist(*point) < 1:\r\n",
        "      inside += 1\r\n",
        "    else:\r\n",
        "      outside += 1\r\n",
        "  return 4*inside / (inside + outside)"
      ],
      "execution_count": 10,
      "outputs": []
    },
    {
      "cell_type": "code",
      "metadata": {
        "colab": {
          "base_uri": "https://localhost:8080/"
        },
        "id": "_Suq31kz4sWL",
        "outputId": "4cddf53a-c13a-44e8-f8b9-1d43869dec56"
      },
      "source": [
        "predict_pi(10000000)"
      ],
      "execution_count": 12,
      "outputs": [
        {
          "output_type": "execute_result",
          "data": {
            "text/plain": [
              "3.1420864"
            ]
          },
          "metadata": {
            "tags": []
          },
          "execution_count": 12
        }
      ]
    },
    {
      "cell_type": "code",
      "metadata": {
        "colab": {
          "base_uri": "https://localhost:8080/",
          "height": 265
        },
        "id": "NnNMPtl64vUj",
        "outputId": "7034cc75-b8f5-486b-eab4-19a1a87376a0"
      },
      "source": [
        "preds = {round((i/100)+2.75, 2):0 for i in range(75)}\r\n",
        "for i in range(10000):\r\n",
        "  pred = predict_pi(1000)\r\n",
        "  preds[round(pred, 2)] += 1\r\n",
        "plt.bar([i for i in preds], [i for i in preds.values()], width=0.01)\r\n",
        "plt.show()"
      ],
      "execution_count": 17,
      "outputs": [
        {
          "output_type": "display_data",
          "data": {
            "image/png": "[encoded data removed]",
            "text/plain": [
              "<Figure size 432x288 with 1 Axes>"
            ]
          },
          "metadata": {
            "tags": [],
            "needs_background": "light"
          }
        }
      ]
    },
    {
      "cell_type": "code",
      "metadata": {
        "id": "O9ERFHIX5ETJ"
      },
      "source": [
        "import numpy as np\r\n",
        "import time"
      ],
      "execution_count": 33,
      "outputs": []
    },
    {
      "cell_type": "code",
      "metadata": {
        "id": "nNRhr6AW71PV"
      },
      "source": [
        "def render(no_samples, width=50, height=25):\r\n",
        "  image = np.zeros((height, width))\r\n",
        "  for y in range(height):\r\n",
        "    for x in range(width):\r\n",
        "      brightness = 0\r\n",
        "      for i in range(no_samples):\r\n",
        "        brightness += trace_path(np.array([0, 0, 1]), np.array([x, y, 0]))\r\n",
        "      brightness /= no_samples\r\n",
        "      image[y, x] = brightness\r\n",
        "    if y % 10 == 0:\r\n",
        "      print(f\"{round(y*100/height)}% complete\")\r\n",
        "  return image"
      ],
      "execution_count": 34,
      "outputs": []
    },
    {
      "cell_type": "code",
      "metadata": {
        "id": "Yvi7Ad2h9GQU"
      },
      "source": [
        "def trace_path(ray, origin, depth=0):\r\n",
        "  max_depth = 3\r\n",
        "\r\n",
        "  if depth >= max_depth:\r\n",
        "    return 0\r\n",
        "\r\n",
        "  intersection, normal, emittance = find_object(ray, origin)\r\n",
        "\r\n",
        "  if intersection is None:\r\n",
        "    return 0\r\n",
        "\r\n",
        "  new_ray = get_random_ray(normal)\r\n",
        "  ang = np.dot(new_ray, normal)\r\n",
        "  incoming = trace_path(new_ray, intersection, depth+1)\r\n",
        "\r\n",
        "  return emittance + incoming * ang"
      ],
      "execution_count": 35,
      "outputs": []
    },
    {
      "cell_type": "code",
      "metadata": {
        "id": "0EN1JCNQ-_j2"
      },
      "source": [
        "def get_random_ray(normal):\r\n",
        "  vec = np.random.randn(3)\r\n",
        "  vec /= np.linalg.norm(vec, axis=0)\r\n",
        "  if np.dot(vec, normal) <= 0:\r\n",
        "    return get_random_ray(normal)\r\n",
        "  return vec"
      ],
      "execution_count": 36,
      "outputs": []
    },
    {
      "cell_type": "code",
      "metadata": {
        "id": "LVp0Rz07__HS"
      },
      "source": [
        "def find_object(ray, origin):\r\n",
        "  objects = [\r\n",
        "    { \"C\": np.array([50, 50, 50]), \"R\": 50, \"I\": 0 },\r\n",
        "    { \"C\": np.array([100, 100, -50]), \"R\": 50, \"I\": 1 }\r\n",
        "  ]\r\n",
        "\r\n",
        "  distances = [sphere_intersect(obj, origin, ray) for obj in objects]\r\n",
        "  min_distance, closest = 1000000000, None\r\n",
        "  for i, dist in enumerate(distances):\r\n",
        "    if dist != None and dist < min_distance:\r\n",
        "      min_distance = dist\r\n",
        "      closest = objects[i]\r\n",
        "\r\n",
        "  if closest == None:\r\n",
        "    return None, None, None\r\n",
        "\r\n",
        "  intersection = origin + min_distance * ray\r\n",
        "  vect = intersection - closest[\"C\"]\r\n",
        "  normal = vect / np.linalg.norm(vect, axis=0)\r\n",
        "\r\n",
        "  return intersection, normal, closest[\"I\"]\r\n",
        "\r\n",
        "def sphere_intersect(obj, origin, ray):  # solve the quadratic (from link)\r\n",
        "  centre, radius = obj[\"C\"], obj[\"R\"]\r\n",
        "  b = 2 * np.dot(ray, origin - centre)\r\n",
        "  c = np.linalg.norm(origin - centre) ** 2 - radius ** 2\r\n",
        "  delta = b ** 2 - 4 * c\r\n",
        "  if delta > 0:\r\n",
        "    t1 = (-b + np.sqrt(delta)) / 2\r\n",
        "    t2 = (-b - np.sqrt(delta)) / 2\r\n",
        "    if t1 > 0 and t2 > 0:\r\n",
        "      return min(t1, t2)\r\n",
        "  return None"
      ],
      "execution_count": 42,
      "outputs": []
    },
    {
      "cell_type": "code",
      "metadata": {
        "colab": {
          "base_uri": "https://localhost:8080/",
          "height": 283
        },
        "id": "KKjrQXhTCjMM",
        "outputId": "402c73f2-279c-4170-dbcc-33c850e56530"
      },
      "source": [
        "start_time = time.time()\r\n",
        "img = render(250)\r\n",
        "plt.imshow(img, cmap=\"gray\")\r\n",
        "plt.show()\r\n",
        "print(f\"Finished in {round(time.time() - start_time, 1)} seconds\")"
      ],
      "execution_count": 39,
      "outputs": [
        {
          "output_type": "stream",
          "text": [
            "0% complete\n",
            "40% complete\n",
            "80% complete\n"
          ],
          "name": "stdout"
        },
        {
          "output_type": "display_data",
          "data": {
            "image/png": "[encoded data removed]",
            "text/plain": [
              "<Figure size 432x288 with 1 Axes>"
            ]
          },
          "metadata": {
            "tags": [],
            "needs_background": "light"
          }
        },
        {
          "output_type": "stream",
          "text": [
            "Finished in 79.0 seconds\n"
          ],
          "name": "stdout"
        }
      ]
    },
    {
      "cell_type": "code",
      "metadata": {
        "id": "un0ZtSIjC8CS"
      },
      "source": [
        "def iterative_render(iters, width=50, height=25):\r\n",
        "  image = np.zeros((height, width))\r\n",
        "  for i in range(iters):\r\n",
        "    for y in range(height):\r\n",
        "      for x in range(width):\r\n",
        "        image[y, x] += trace_path(np.array([0, 0, 1]), np.array([x, y, 0]))\r\n",
        "    yield image / (i+1)"
      ],
      "execution_count": 40,
      "outputs": []
    },
    {
      "cell_type": "code",
      "metadata": {
        "id": "iD-H1q8JDgrC"
      },
      "source": [
        "for img in iterative_render(10000, width=100, height=100):\r\n",
        "  plt.imshow(img, cmap=\"gray\")\r\n",
        "  plt.show()"
      ],
      "execution_count": null,
      "outputs": []
    },
    {
      "cell_type": "code",
      "metadata": {
        "id": "vXPJZFrgD8UD"
      },
      "source": [
        ""
      ],
      "execution_count": null,
      "outputs": []
    }
  ]
}
